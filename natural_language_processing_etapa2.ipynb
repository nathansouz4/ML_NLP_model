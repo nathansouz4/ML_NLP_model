{
  "cells": [
    {
      "cell_type": "markdown",
      "metadata": {
        "id": "view-in-github",
        "colab_type": "text"
      },
      "source": [
        "<a href=\"https://colab.research.google.com/github/nathansouz4/poo/blob/main/natural_language_processing_etapa2.ipynb\" target=\"_parent\"><img src=\"https://colab.research.google.com/assets/colab-badge.svg\" alt=\"Open In Colab\"/></a>"
      ]
    },
    {
      "cell_type": "markdown",
      "metadata": {
        "id": "VwK5-9FIB-lu"
      },
      "source": [
        "# Natural Language Processing"
      ]
    },
    {
      "cell_type": "markdown",
      "metadata": {
        "id": "X1kiO9kACE6s"
      },
      "source": [
        "## Importando as bibliotecas"
      ]
    },
    {
      "cell_type": "code",
      "execution_count": null,
      "metadata": {
        "id": "7QG7sxmoCIvN"
      },
      "outputs": [],
      "source": [
        "import numpy as np\n",
        "import matplotlib.pyplot as plt\n",
        "import pandas as pd\n",
        "import seaborn as sns"
      ]
    },
    {
      "cell_type": "markdown",
      "metadata": {
        "id": "wTfaCIzdCLPA"
      },
      "source": [
        "## Importando o dataset "
      ]
    },
    {
      "cell_type": "code",
      "execution_count": null,
      "metadata": {
        "colab": {
          "base_uri": "https://localhost:8080/"
        },
        "id": "xIOOidz_JeUT",
        "outputId": "35aa4021-293e-4ab3-d0bc-8259a47ac5ff"
      },
      "outputs": [
        {
          "name": "stdout",
          "output_type": "stream",
          "text": [
            "Mounted at /content/drive\n"
          ]
        }
      ],
      "source": [
        "from google.colab import drive\n",
        "drive.mount('/content/drive')"
      ]
    },
    {
      "cell_type": "code",
      "execution_count": 233,
      "metadata": {
        "id": "W2IozshVCkMb"
      },
      "outputs": [],
      "source": [
        "dataset = pd.read_parquet('/content/drive/MyDrive/Processo_seletivo_Etapa_2/sample.parquet', engine='auto')"
      ]
    },
    {
      "cell_type": "code",
      "execution_count": null,
      "metadata": {
        "id": "5vHknlYEIC4T"
      },
      "outputs": [],
      "source": [
        "#dataset = pd.read_parquet('sample.parquet', engine='auto')"
      ]
    },
    {
      "cell_type": "markdown",
      "metadata": {
        "id": "71fQ_g9uSVWU"
      },
      "source": [
        "## Visualizando o dataset"
      ]
    },
    {
      "cell_type": "code",
      "execution_count": 234,
      "metadata": {
        "colab": {
          "base_uri": "https://localhost:8080/",
          "height": 878
        },
        "id": "Q43P0jvmHsjP",
        "outputId": "c3d624db-d2aa-4ee3-883e-8222de426186"
      },
      "outputs": [
        {
          "output_type": "execute_result",
          "data": {
            "text/plain": [
              "                num_processo data_ajuizamento  \\\n",
              "0  0500454-62.2017.4.05.8402       2017-03-06   \n",
              "1  0517700-16.2013.4.05.8013       2013-10-09   \n",
              "2  0502388-07.2007.4.05.8305       2007-07-13   \n",
              "3  0503551-02.2014.4.05.8103       2014-04-02   \n",
              "4  0503488-94.2016.4.05.8300       2016-03-21   \n",
              "\n",
              "  data_primeira_movimentacao_processual data_ultima_movimentacao  \\\n",
              "0                   2017-03-06 11:01:00      2017-10-30 10:07:00   \n",
              "1                   2013-10-09 20:54:00                      NaT   \n",
              "2                   2007-07-13 13:51:00                      NaT   \n",
              "3                   2014-04-02 11:02:00                      NaT   \n",
              "4                   2016-03-21 11:04:00      2019-02-19 13:16:00   \n",
              "\n",
              "                                                                                                 autor  \\\n",
              "0     Lourival Francisco da Silva (027.173.384-54)\\nMaria das Vitórias Nunes Silva Lourenço (RN008392)   \n",
              "1                           MARIA LUCIA CARDOSO (382.242.084-00)\\nEmanuel Florêncio Barbosa (AL002019)   \n",
              "2         QUITÉRIA BARBOSA DA SILVA NASCIMENTO (062.819.274-60)\\nPaulo Emanuel Perazzo Dias (PE020418)   \n",
              "3  Emanuela Carneiro Tabosa (777.839.723-49)\\nBruno Henrique Vaz Carvalho (CE019341)\\nDiego de Frei...   \n",
              "4  Lúcio Flavio de Lima Albuquerque (095.403.004-44)\\nPaulianne Alexandre Tenorio (PE020070D)\\nPAUL...   \n",
              "\n",
              "                                                                                                   reu  \\\n",
              "0  Fazenda Nacional (00.394.460/0239-40)\\nMunicípio de Lagoa Nova (08.182.313/0001-10)\\nUNIÃO (26.9...   \n",
              "1                                                         Caixa Econômica Federal (00.360.305/0001-04)   \n",
              "2                                      Instituto Nacional do Seguro Social - INSS (29.979.036/0193-21)   \n",
              "3   UNIÃO (FAZENDA NACIONAL) - Procuradoria da Fazenda Nacional no Ceará - PFN/CE (00.394.460/0223-82)   \n",
              "4  ANGELA MARIA DO NASCIMENTO SILVA (157.771.544-68)\\nInstituto Nacional do Seguro Social - INSS (2...   \n",
              "\n",
              "  tutela_antecipada   vara titular_substituto  \\\n",
              "0                 N   9-RN            Titular   \n",
              "1                 N   9-AL            Titular   \n",
              "2                 N  23-PE            Titular   \n",
              "3                 N  19-CE            Titular   \n",
              "4                 N  19-PE         Substituto   \n",
              "\n",
              "                             classe_atual  codigo_assunto_cnj  \\\n",
              "0             Execução de Título Judicial                6048   \n",
              "1  Procedimento do Juizado Especial Cível               10433   \n",
              "2  Procedimento do Juizado Especial Cível                6138   \n",
              "3  Procedimento do Juizado Especial Cível                6048   \n",
              "4  Procedimento do Juizado Especial Cível                6179   \n",
              "\n",
              "              assunto_cnj  \\\n",
              "0      Direito Tributário   \n",
              "1           Direito Civil   \n",
              "2  Direito Previdenciário   \n",
              "3      Direito Tributário   \n",
              "4  Direito Previdenciário   \n",
              "\n",
              "                                        complemento_assunto_cnj  \\\n",
              "0                                                 Contribuições   \n",
              "1                                        Responsabilidade Civil   \n",
              "2  RMI - Renda Mensal Inicial, Reajustes e Revisões Específicas   \n",
              "3                                                 Contribuições   \n",
              "4         Pedidos Genéricos Relativos aos Benefícios em Espécie   \n",
              "\n",
              "                detalhe_assunto_cnj  num_advogados advogado_1  \\\n",
              "0     Contribuições Previdenciárias              1   RN008392   \n",
              "1        Indenização por Dano Moral              1   AL002019   \n",
              "2  Reajustes e Revisões Específicos              1   PE020418   \n",
              "3     Contribuições Previdenciárias              2   CE019341   \n",
              "4                         Conversão              1  PE020070D   \n",
              "\n",
              "  juizado_itinerante medida_acautelatoria justica_gratuita ministerio_publico  \\\n",
              "0                  N                    N                S                  N   \n",
              "1                  N                    N                S                  N   \n",
              "2                  N                    N                S                  N   \n",
              "3                  N                    N                S                  N   \n",
              "4                  N                    N                S                  N   \n",
              "\n",
              "  prioridade_processual                             rpv tipo_distribuicao  \\\n",
              "0                     N  Não houve expedição de RPV/PRC        Automática   \n",
              "1                     N  Não houve expedição de RPV/PRC        Automática   \n",
              "2                     N  Não houve expedição de RPV/PRC        Automática   \n",
              "3                     N  Não houve expedição de RPV/PRC        Automática   \n",
              "4                     N  Não houve expedição de RPV/PRC        Automática   \n",
              "\n",
              "  pedido_urgencia  n_audiencias_conciliacao  n_audiencias_instrucao  \\\n",
              "0               N                         0                       0   \n",
              "1               S                         0                       0   \n",
              "2               N                         0                       0   \n",
              "3               S                         0                       0   \n",
              "4               N                         0                       0   \n",
              "\n",
              "   n_pericias_realizadas  nome_perito  processo_arquivado   data_arquivamento  \\\n",
              "0                      0  SEM PERÍCIA                   1 2017-10-26 08:47:00   \n",
              "1                      0  SEM PERÍCIA                <NA>                 NaT   \n",
              "2                      0  SEM PERÍCIA                <NA>                 NaT   \n",
              "3                      0  SEM PERÍCIA                <NA>                 NaT   \n",
              "4                      0  SEM PERÍCIA                   1 2019-02-19 13:16:00   \n",
              "\n",
              "   n_movimentacoes  tempo_processual             liminar        data_liminar  \\\n",
              "0               56             238.0  SEM PEDIDO LIMINAR                 NaT   \n",
              "1             <NA>               NaN  SEM PEDIDO LIMINAR                 NaT   \n",
              "2             <NA>               NaN  SEM PEDIDO LIMINAR                 NaT   \n",
              "3             <NA>               NaN          INDEFERIDA 2014-11-16 23:11:00   \n",
              "4              114            1065.0  SEM PEDIDO LIMINAR                 NaT   \n",
              "\n",
              "        data_sentenca                 magistrado_sentenca    resultado_1_grau  \\\n",
              "0 2017-05-21 18:23:56  ARNALDO PEREIRA DE ANDRADE SEGUNDO          PROCEDENTE   \n",
              "1 2013-10-30 17:10:04            ANDRÉ CARVALHO MONTEIRO  EXTINTO SEM MÉRITO   \n",
              "2 2007-12-04 09:35:02            ANDRÉ CARVALHO MONTEIRO  EXTINTO SEM MÉRITO   \n",
              "3 2014-04-23 19:41:13    ADONIAS RIBEIRO DE CARVALHO NETO          PROCEDENTE   \n",
              "4 2018-05-14 12:39:45              GUILHERME SOARES DINIZ        IMPROCEDENTE   \n",
              "\n",
              "                                                                                     conteudo_sentenca  \\\n",
              "0  SENTENÇA 1. Relatório Cuida-se de ação proposta em face da FAZENDA NACIONAL e MUNICÍPIO DE LAGOA...   \n",
              "1  SENTENÇA Trata-se de ação especial cível, em cuja petição verifico, de plano, a existência de ví...   \n",
              "2  SENTENÇA Vistos etc. Trata-se de ação especial visando a cobrança de diferenças na concessão de ...   \n",
              "3  SENTENÇA I - RELATÓRIO Cuida-se de ação em que a parte autora, Emanuela Carneiro Tabosa postula ...   \n",
              "4  SENTENÇA Tipo A I – RELATÓRIO Dispensado o relatório, na forma do artigo 38 da Lei 9.099/95, sub...   \n",
              "\n",
              "   n_dias_ate_sentenca  n_tokens_sentenca             relator_acordao  \\\n",
              "0            76.307593               1309  Almiro José da Rocha Lemos   \n",
              "1            20.844491                263                         NaN   \n",
              "2           143.822245                956                         NaN   \n",
              "3            21.360567               3037     CÍNTIA MENEZES BRUNETTA   \n",
              "4           784.066493               2099       Joaquim Lustosa Filho   \n",
              "\n",
              "       data_sessao_tr        data_acordao  \\\n",
              "0 2017-08-09 09:00:00 2017-08-14 10:46:34   \n",
              "1                 NaT                 NaT   \n",
              "2                 NaT                 NaT   \n",
              "3 2014-06-25 13:30:00 2014-06-27 16:14:43   \n",
              "4 2018-06-19 10:00:00 2018-06-19 15:01:56   \n",
              "\n",
              "                                                                                      conteudo_acordao  \\\n",
              "0  PROCESSO 0500454-62.2017.4.05.8402  EMENTA:DIREITO TRIBUTÁRIO. SERVIDOR PÚBLICO. RECURSO INOMINA...   \n",
              "1                                                                                                 None   \n",
              "2                                                                                                 None   \n",
              "3  VOTO Relatório dispensado, nos termos do art. 38 da Lei n.o 9.099/95. Competência dos Juizados E...   \n",
              "4  EMENTA PREVIDENCIÁRIO. PENSÃO POR MORTE. PROVA EMPRESTADA. POSSIBILIDADE. REQUISITOS PARA A CONC...   \n",
              "\n",
              "  resultado_2_grau  n_tokens_acordao  \n",
              "0   NÃO PROVIMENTO             381.0  \n",
              "1              NaN               0.1  \n",
              "2              NaN               0.1  \n",
              "3   NÃO PROVIMENTO            1214.0  \n",
              "4   NÃO PROVIMENTO            1962.0  "
            ],
            "text/html": [
              "\n",
              "  <div id=\"df-8e20ecd3-2a53-44ab-a447-5dabe65c8164\">\n",
              "    <div class=\"colab-df-container\">\n",
              "      <div>\n",
              "<style scoped>\n",
              "    .dataframe tbody tr th:only-of-type {\n",
              "        vertical-align: middle;\n",
              "    }\n",
              "\n",
              "    .dataframe tbody tr th {\n",
              "        vertical-align: top;\n",
              "    }\n",
              "\n",
              "    .dataframe thead th {\n",
              "        text-align: right;\n",
              "    }\n",
              "</style>\n",
              "<table border=\"1\" class=\"dataframe\">\n",
              "  <thead>\n",
              "    <tr style=\"text-align: right;\">\n",
              "      <th></th>\n",
              "      <th>num_processo</th>\n",
              "      <th>data_ajuizamento</th>\n",
              "      <th>data_primeira_movimentacao_processual</th>\n",
              "      <th>data_ultima_movimentacao</th>\n",
              "      <th>autor</th>\n",
              "      <th>reu</th>\n",
              "      <th>tutela_antecipada</th>\n",
              "      <th>vara</th>\n",
              "      <th>titular_substituto</th>\n",
              "      <th>classe_atual</th>\n",
              "      <th>codigo_assunto_cnj</th>\n",
              "      <th>assunto_cnj</th>\n",
              "      <th>complemento_assunto_cnj</th>\n",
              "      <th>detalhe_assunto_cnj</th>\n",
              "      <th>num_advogados</th>\n",
              "      <th>advogado_1</th>\n",
              "      <th>juizado_itinerante</th>\n",
              "      <th>medida_acautelatoria</th>\n",
              "      <th>justica_gratuita</th>\n",
              "      <th>ministerio_publico</th>\n",
              "      <th>prioridade_processual</th>\n",
              "      <th>rpv</th>\n",
              "      <th>tipo_distribuicao</th>\n",
              "      <th>pedido_urgencia</th>\n",
              "      <th>n_audiencias_conciliacao</th>\n",
              "      <th>n_audiencias_instrucao</th>\n",
              "      <th>n_pericias_realizadas</th>\n",
              "      <th>nome_perito</th>\n",
              "      <th>processo_arquivado</th>\n",
              "      <th>data_arquivamento</th>\n",
              "      <th>n_movimentacoes</th>\n",
              "      <th>tempo_processual</th>\n",
              "      <th>liminar</th>\n",
              "      <th>data_liminar</th>\n",
              "      <th>data_sentenca</th>\n",
              "      <th>magistrado_sentenca</th>\n",
              "      <th>resultado_1_grau</th>\n",
              "      <th>conteudo_sentenca</th>\n",
              "      <th>n_dias_ate_sentenca</th>\n",
              "      <th>n_tokens_sentenca</th>\n",
              "      <th>relator_acordao</th>\n",
              "      <th>data_sessao_tr</th>\n",
              "      <th>data_acordao</th>\n",
              "      <th>conteudo_acordao</th>\n",
              "      <th>resultado_2_grau</th>\n",
              "      <th>n_tokens_acordao</th>\n",
              "    </tr>\n",
              "  </thead>\n",
              "  <tbody>\n",
              "    <tr>\n",
              "      <th>0</th>\n",
              "      <td>0500454-62.2017.4.05.8402</td>\n",
              "      <td>2017-03-06</td>\n",
              "      <td>2017-03-06 11:01:00</td>\n",
              "      <td>2017-10-30 10:07:00</td>\n",
              "      <td>Lourival Francisco da Silva (027.173.384-54)\\nMaria das Vitórias Nunes Silva Lourenço (RN008392)</td>\n",
              "      <td>Fazenda Nacional (00.394.460/0239-40)\\nMunicípio de Lagoa Nova (08.182.313/0001-10)\\nUNIÃO (26.9...</td>\n",
              "      <td>N</td>\n",
              "      <td>9-RN</td>\n",
              "      <td>Titular</td>\n",
              "      <td>Execução de Título Judicial</td>\n",
              "      <td>6048</td>\n",
              "      <td>Direito Tributário</td>\n",
              "      <td>Contribuições</td>\n",
              "      <td>Contribuições Previdenciárias</td>\n",
              "      <td>1</td>\n",
              "      <td>RN008392</td>\n",
              "      <td>N</td>\n",
              "      <td>N</td>\n",
              "      <td>S</td>\n",
              "      <td>N</td>\n",
              "      <td>N</td>\n",
              "      <td>Não houve expedição de RPV/PRC</td>\n",
              "      <td>Automática</td>\n",
              "      <td>N</td>\n",
              "      <td>0</td>\n",
              "      <td>0</td>\n",
              "      <td>0</td>\n",
              "      <td>SEM PERÍCIA</td>\n",
              "      <td>1</td>\n",
              "      <td>2017-10-26 08:47:00</td>\n",
              "      <td>56</td>\n",
              "      <td>238.0</td>\n",
              "      <td>SEM PEDIDO LIMINAR</td>\n",
              "      <td>NaT</td>\n",
              "      <td>2017-05-21 18:23:56</td>\n",
              "      <td>ARNALDO PEREIRA DE ANDRADE SEGUNDO</td>\n",
              "      <td>PROCEDENTE</td>\n",
              "      <td>SENTENÇA 1. Relatório Cuida-se de ação proposta em face da FAZENDA NACIONAL e MUNICÍPIO DE LAGOA...</td>\n",
              "      <td>76.307593</td>\n",
              "      <td>1309</td>\n",
              "      <td>Almiro José da Rocha Lemos</td>\n",
              "      <td>2017-08-09 09:00:00</td>\n",
              "      <td>2017-08-14 10:46:34</td>\n",
              "      <td>PROCESSO 0500454-62.2017.4.05.8402  EMENTA:DIREITO TRIBUTÁRIO. SERVIDOR PÚBLICO. RECURSO INOMINA...</td>\n",
              "      <td>NÃO PROVIMENTO</td>\n",
              "      <td>381.0</td>\n",
              "    </tr>\n",
              "    <tr>\n",
              "      <th>1</th>\n",
              "      <td>0517700-16.2013.4.05.8013</td>\n",
              "      <td>2013-10-09</td>\n",
              "      <td>2013-10-09 20:54:00</td>\n",
              "      <td>NaT</td>\n",
              "      <td>MARIA LUCIA CARDOSO (382.242.084-00)\\nEmanuel Florêncio Barbosa (AL002019)</td>\n",
              "      <td>Caixa Econômica Federal (00.360.305/0001-04)</td>\n",
              "      <td>N</td>\n",
              "      <td>9-AL</td>\n",
              "      <td>Titular</td>\n",
              "      <td>Procedimento do Juizado Especial Cível</td>\n",
              "      <td>10433</td>\n",
              "      <td>Direito Civil</td>\n",
              "      <td>Responsabilidade Civil</td>\n",
              "      <td>Indenização por Dano Moral</td>\n",
              "      <td>1</td>\n",
              "      <td>AL002019</td>\n",
              "      <td>N</td>\n",
              "      <td>N</td>\n",
              "      <td>S</td>\n",
              "      <td>N</td>\n",
              "      <td>N</td>\n",
              "      <td>Não houve expedição de RPV/PRC</td>\n",
              "      <td>Automática</td>\n",
              "      <td>S</td>\n",
              "      <td>0</td>\n",
              "      <td>0</td>\n",
              "      <td>0</td>\n",
              "      <td>SEM PERÍCIA</td>\n",
              "      <td>&lt;NA&gt;</td>\n",
              "      <td>NaT</td>\n",
              "      <td>&lt;NA&gt;</td>\n",
              "      <td>NaN</td>\n",
              "      <td>SEM PEDIDO LIMINAR</td>\n",
              "      <td>NaT</td>\n",
              "      <td>2013-10-30 17:10:04</td>\n",
              "      <td>ANDRÉ CARVALHO MONTEIRO</td>\n",
              "      <td>EXTINTO SEM MÉRITO</td>\n",
              "      <td>SENTENÇA Trata-se de ação especial cível, em cuja petição verifico, de plano, a existência de ví...</td>\n",
              "      <td>20.844491</td>\n",
              "      <td>263</td>\n",
              "      <td>NaN</td>\n",
              "      <td>NaT</td>\n",
              "      <td>NaT</td>\n",
              "      <td>None</td>\n",
              "      <td>NaN</td>\n",
              "      <td>0.1</td>\n",
              "    </tr>\n",
              "    <tr>\n",
              "      <th>2</th>\n",
              "      <td>0502388-07.2007.4.05.8305</td>\n",
              "      <td>2007-07-13</td>\n",
              "      <td>2007-07-13 13:51:00</td>\n",
              "      <td>NaT</td>\n",
              "      <td>QUITÉRIA BARBOSA DA SILVA NASCIMENTO (062.819.274-60)\\nPaulo Emanuel Perazzo Dias (PE020418)</td>\n",
              "      <td>Instituto Nacional do Seguro Social - INSS (29.979.036/0193-21)</td>\n",
              "      <td>N</td>\n",
              "      <td>23-PE</td>\n",
              "      <td>Titular</td>\n",
              "      <td>Procedimento do Juizado Especial Cível</td>\n",
              "      <td>6138</td>\n",
              "      <td>Direito Previdenciário</td>\n",
              "      <td>RMI - Renda Mensal Inicial, Reajustes e Revisões Específicas</td>\n",
              "      <td>Reajustes e Revisões Específicos</td>\n",
              "      <td>1</td>\n",
              "      <td>PE020418</td>\n",
              "      <td>N</td>\n",
              "      <td>N</td>\n",
              "      <td>S</td>\n",
              "      <td>N</td>\n",
              "      <td>N</td>\n",
              "      <td>Não houve expedição de RPV/PRC</td>\n",
              "      <td>Automática</td>\n",
              "      <td>N</td>\n",
              "      <td>0</td>\n",
              "      <td>0</td>\n",
              "      <td>0</td>\n",
              "      <td>SEM PERÍCIA</td>\n",
              "      <td>&lt;NA&gt;</td>\n",
              "      <td>NaT</td>\n",
              "      <td>&lt;NA&gt;</td>\n",
              "      <td>NaN</td>\n",
              "      <td>SEM PEDIDO LIMINAR</td>\n",
              "      <td>NaT</td>\n",
              "      <td>2007-12-04 09:35:02</td>\n",
              "      <td>ANDRÉ CARVALHO MONTEIRO</td>\n",
              "      <td>EXTINTO SEM MÉRITO</td>\n",
              "      <td>SENTENÇA Vistos etc. Trata-se de ação especial visando a cobrança de diferenças na concessão de ...</td>\n",
              "      <td>143.822245</td>\n",
              "      <td>956</td>\n",
              "      <td>NaN</td>\n",
              "      <td>NaT</td>\n",
              "      <td>NaT</td>\n",
              "      <td>None</td>\n",
              "      <td>NaN</td>\n",
              "      <td>0.1</td>\n",
              "    </tr>\n",
              "    <tr>\n",
              "      <th>3</th>\n",
              "      <td>0503551-02.2014.4.05.8103</td>\n",
              "      <td>2014-04-02</td>\n",
              "      <td>2014-04-02 11:02:00</td>\n",
              "      <td>NaT</td>\n",
              "      <td>Emanuela Carneiro Tabosa (777.839.723-49)\\nBruno Henrique Vaz Carvalho (CE019341)\\nDiego de Frei...</td>\n",
              "      <td>UNIÃO (FAZENDA NACIONAL) - Procuradoria da Fazenda Nacional no Ceará - PFN/CE (00.394.460/0223-82)</td>\n",
              "      <td>N</td>\n",
              "      <td>19-CE</td>\n",
              "      <td>Titular</td>\n",
              "      <td>Procedimento do Juizado Especial Cível</td>\n",
              "      <td>6048</td>\n",
              "      <td>Direito Tributário</td>\n",
              "      <td>Contribuições</td>\n",
              "      <td>Contribuições Previdenciárias</td>\n",
              "      <td>2</td>\n",
              "      <td>CE019341</td>\n",
              "      <td>N</td>\n",
              "      <td>N</td>\n",
              "      <td>S</td>\n",
              "      <td>N</td>\n",
              "      <td>N</td>\n",
              "      <td>Não houve expedição de RPV/PRC</td>\n",
              "      <td>Automática</td>\n",
              "      <td>S</td>\n",
              "      <td>0</td>\n",
              "      <td>0</td>\n",
              "      <td>0</td>\n",
              "      <td>SEM PERÍCIA</td>\n",
              "      <td>&lt;NA&gt;</td>\n",
              "      <td>NaT</td>\n",
              "      <td>&lt;NA&gt;</td>\n",
              "      <td>NaN</td>\n",
              "      <td>INDEFERIDA</td>\n",
              "      <td>2014-11-16 23:11:00</td>\n",
              "      <td>2014-04-23 19:41:13</td>\n",
              "      <td>ADONIAS RIBEIRO DE CARVALHO NETO</td>\n",
              "      <td>PROCEDENTE</td>\n",
              "      <td>SENTENÇA I - RELATÓRIO Cuida-se de ação em que a parte autora, Emanuela Carneiro Tabosa postula ...</td>\n",
              "      <td>21.360567</td>\n",
              "      <td>3037</td>\n",
              "      <td>CÍNTIA MENEZES BRUNETTA</td>\n",
              "      <td>2014-06-25 13:30:00</td>\n",
              "      <td>2014-06-27 16:14:43</td>\n",
              "      <td>VOTO Relatório dispensado, nos termos do art. 38 da Lei n.o 9.099/95. Competência dos Juizados E...</td>\n",
              "      <td>NÃO PROVIMENTO</td>\n",
              "      <td>1214.0</td>\n",
              "    </tr>\n",
              "    <tr>\n",
              "      <th>4</th>\n",
              "      <td>0503488-94.2016.4.05.8300</td>\n",
              "      <td>2016-03-21</td>\n",
              "      <td>2016-03-21 11:04:00</td>\n",
              "      <td>2019-02-19 13:16:00</td>\n",
              "      <td>Lúcio Flavio de Lima Albuquerque (095.403.004-44)\\nPaulianne Alexandre Tenorio (PE020070D)\\nPAUL...</td>\n",
              "      <td>ANGELA MARIA DO NASCIMENTO SILVA (157.771.544-68)\\nInstituto Nacional do Seguro Social - INSS (2...</td>\n",
              "      <td>N</td>\n",
              "      <td>19-PE</td>\n",
              "      <td>Substituto</td>\n",
              "      <td>Procedimento do Juizado Especial Cível</td>\n",
              "      <td>6179</td>\n",
              "      <td>Direito Previdenciário</td>\n",
              "      <td>Pedidos Genéricos Relativos aos Benefícios em Espécie</td>\n",
              "      <td>Conversão</td>\n",
              "      <td>1</td>\n",
              "      <td>PE020070D</td>\n",
              "      <td>N</td>\n",
              "      <td>N</td>\n",
              "      <td>S</td>\n",
              "      <td>N</td>\n",
              "      <td>N</td>\n",
              "      <td>Não houve expedição de RPV/PRC</td>\n",
              "      <td>Automática</td>\n",
              "      <td>N</td>\n",
              "      <td>0</td>\n",
              "      <td>0</td>\n",
              "      <td>0</td>\n",
              "      <td>SEM PERÍCIA</td>\n",
              "      <td>1</td>\n",
              "      <td>2019-02-19 13:16:00</td>\n",
              "      <td>114</td>\n",
              "      <td>1065.0</td>\n",
              "      <td>SEM PEDIDO LIMINAR</td>\n",
              "      <td>NaT</td>\n",
              "      <td>2018-05-14 12:39:45</td>\n",
              "      <td>GUILHERME SOARES DINIZ</td>\n",
              "      <td>IMPROCEDENTE</td>\n",
              "      <td>SENTENÇA Tipo A I – RELATÓRIO Dispensado o relatório, na forma do artigo 38 da Lei 9.099/95, sub...</td>\n",
              "      <td>784.066493</td>\n",
              "      <td>2099</td>\n",
              "      <td>Joaquim Lustosa Filho</td>\n",
              "      <td>2018-06-19 10:00:00</td>\n",
              "      <td>2018-06-19 15:01:56</td>\n",
              "      <td>EMENTA PREVIDENCIÁRIO. PENSÃO POR MORTE. PROVA EMPRESTADA. POSSIBILIDADE. REQUISITOS PARA A CONC...</td>\n",
              "      <td>NÃO PROVIMENTO</td>\n",
              "      <td>1962.0</td>\n",
              "    </tr>\n",
              "  </tbody>\n",
              "</table>\n",
              "</div>\n",
              "      <button class=\"colab-df-convert\" onclick=\"convertToInteractive('df-8e20ecd3-2a53-44ab-a447-5dabe65c8164')\"\n",
              "              title=\"Convert this dataframe to an interactive table.\"\n",
              "              style=\"display:none;\">\n",
              "        \n",
              "  <svg xmlns=\"http://www.w3.org/2000/svg\" height=\"24px\"viewBox=\"0 0 24 24\"\n",
              "       width=\"24px\">\n",
              "    <path d=\"M0 0h24v24H0V0z\" fill=\"none\"/>\n",
              "    <path d=\"M18.56 5.44l.94 2.06.94-2.06 2.06-.94-2.06-.94-.94-2.06-.94 2.06-2.06.94zm-11 1L8.5 8.5l.94-2.06 2.06-.94-2.06-.94L8.5 2.5l-.94 2.06-2.06.94zm10 10l.94 2.06.94-2.06 2.06-.94-2.06-.94-.94-2.06-.94 2.06-2.06.94z\"/><path d=\"M17.41 7.96l-1.37-1.37c-.4-.4-.92-.59-1.43-.59-.52 0-1.04.2-1.43.59L10.3 9.45l-7.72 7.72c-.78.78-.78 2.05 0 2.83L4 21.41c.39.39.9.59 1.41.59.51 0 1.02-.2 1.41-.59l7.78-7.78 2.81-2.81c.8-.78.8-2.07 0-2.86zM5.41 20L4 18.59l7.72-7.72 1.47 1.35L5.41 20z\"/>\n",
              "  </svg>\n",
              "      </button>\n",
              "      \n",
              "  <style>\n",
              "    .colab-df-container {\n",
              "      display:flex;\n",
              "      flex-wrap:wrap;\n",
              "      gap: 12px;\n",
              "    }\n",
              "\n",
              "    .colab-df-convert {\n",
              "      background-color: #E8F0FE;\n",
              "      border: none;\n",
              "      border-radius: 50%;\n",
              "      cursor: pointer;\n",
              "      display: none;\n",
              "      fill: #1967D2;\n",
              "      height: 32px;\n",
              "      padding: 0 0 0 0;\n",
              "      width: 32px;\n",
              "    }\n",
              "\n",
              "    .colab-df-convert:hover {\n",
              "      background-color: #E2EBFA;\n",
              "      box-shadow: 0px 1px 2px rgba(60, 64, 67, 0.3), 0px 1px 3px 1px rgba(60, 64, 67, 0.15);\n",
              "      fill: #174EA6;\n",
              "    }\n",
              "\n",
              "    [theme=dark] .colab-df-convert {\n",
              "      background-color: #3B4455;\n",
              "      fill: #D2E3FC;\n",
              "    }\n",
              "\n",
              "    [theme=dark] .colab-df-convert:hover {\n",
              "      background-color: #434B5C;\n",
              "      box-shadow: 0px 1px 3px 1px rgba(0, 0, 0, 0.15);\n",
              "      filter: drop-shadow(0px 1px 2px rgba(0, 0, 0, 0.3));\n",
              "      fill: #FFFFFF;\n",
              "    }\n",
              "  </style>\n",
              "\n",
              "      <script>\n",
              "        const buttonEl =\n",
              "          document.querySelector('#df-8e20ecd3-2a53-44ab-a447-5dabe65c8164 button.colab-df-convert');\n",
              "        buttonEl.style.display =\n",
              "          google.colab.kernel.accessAllowed ? 'block' : 'none';\n",
              "\n",
              "        async function convertToInteractive(key) {\n",
              "          const element = document.querySelector('#df-8e20ecd3-2a53-44ab-a447-5dabe65c8164');\n",
              "          const dataTable =\n",
              "            await google.colab.kernel.invokeFunction('convertToInteractive',\n",
              "                                                     [key], {});\n",
              "          if (!dataTable) return;\n",
              "\n",
              "          const docLinkHtml = 'Like what you see? Visit the ' +\n",
              "            '<a target=\"_blank\" href=https://colab.research.google.com/notebooks/data_table.ipynb>data table notebook</a>'\n",
              "            + ' to learn more about interactive tables.';\n",
              "          element.innerHTML = '';\n",
              "          dataTable['output_type'] = 'display_data';\n",
              "          await google.colab.output.renderOutput(dataTable, element);\n",
              "          const docLink = document.createElement('div');\n",
              "          docLink.innerHTML = docLinkHtml;\n",
              "          element.appendChild(docLink);\n",
              "        }\n",
              "      </script>\n",
              "    </div>\n",
              "  </div>\n",
              "  "
            ]
          },
          "metadata": {},
          "execution_count": 234
        }
      ],
      "source": [
        "pd.set_option('display.max_columns', None)\n",
        "pd.set_option('display.max_colwidth', 100)\n",
        "dataset.head()"
      ]
    },
    {
      "cell_type": "code",
      "execution_count": null,
      "metadata": {
        "id": "TbL4wJKUHI1i"
      },
      "outputs": [],
      "source": [
        "# resetando configuracao de display de dados\n",
        "pd.reset_option('^display.', silent=True)"
      ]
    },
    {
      "cell_type": "markdown",
      "metadata": {
        "id": "JkpSC1J879jy"
      },
      "source": [
        "## Analise exploratoria de dados continuos e discretos"
      ]
    },
    {
      "cell_type": "code",
      "execution_count": null,
      "metadata": {
        "colab": {
          "base_uri": "https://localhost:8080/"
        },
        "id": "AAHyKj7U9kfs",
        "outputId": "1c95dcf1-00e5-449f-b981-8c1747a5e7db"
      },
      "outputs": [
        {
          "data": {
            "text/plain": [
              "num_processo                                     object\n",
              "data_ajuizamento                         datetime64[ns]\n",
              "data_primeira_movimentacao_processual    datetime64[ns]\n",
              "data_ultima_movimentacao                 datetime64[ns]\n",
              "autor                                            object\n",
              "reu                                              object\n",
              "tutela_antecipada                              category\n",
              "vara                                           category\n",
              "titular_substituto                             category\n",
              "classe_atual                                   category\n",
              "codigo_assunto_cnj                                int64\n",
              "assunto_cnj                                    category\n",
              "complemento_assunto_cnj                        category\n",
              "detalhe_assunto_cnj                            category\n",
              "num_advogados                                      Int8\n",
              "advogado_1                                     category\n",
              "juizado_itinerante                             category\n",
              "medida_acautelatoria                           category\n",
              "justica_gratuita                               category\n",
              "ministerio_publico                             category\n",
              "prioridade_processual                          category\n",
              "rpv                                            category\n",
              "tipo_distribuicao                              category\n",
              "pedido_urgencia                                category\n",
              "n_audiencias_conciliacao                           Int8\n",
              "n_audiencias_instrucao                             Int8\n",
              "n_pericias_realizadas                              Int8\n",
              "nome_perito                                    category\n",
              "processo_arquivado                                 Int8\n",
              "data_arquivamento                        datetime64[ns]\n",
              "n_movimentacoes                                   Int32\n",
              "tempo_processual                                float64\n",
              "liminar                                        category\n",
              "data_liminar                             datetime64[ns]\n",
              "data_sentenca                            datetime64[ns]\n",
              "magistrado_sentenca                            category\n",
              "resultado_1_grau                               category\n",
              "conteudo_sentenca                                object\n",
              "n_dias_ate_sentenca                             float64\n",
              "n_tokens_sentenca                                 int64\n",
              "relator_acordao                                category\n",
              "data_sessao_tr                           datetime64[ns]\n",
              "data_acordao                             datetime64[ns]\n",
              "conteudo_acordao                                 object\n",
              "resultado_2_grau                               category\n",
              "n_tokens_acordao                                float64\n",
              "dtype: object"
            ]
          },
          "execution_count": 71,
          "metadata": {},
          "output_type": "execute_result"
        }
      ],
      "source": [
        "# Verificar tipos de dados\n",
        "dataset.dtypes"
      ]
    },
    {
      "cell_type": "code",
      "execution_count": null,
      "metadata": {
        "id": "FA9C3Xid9y9S"
      },
      "outputs": [],
      "source": [
        "#selecao das colunas com dados numericos relevantes\n",
        "df_numerico = dataset.loc[:,['num_advogados','n_audiencias_conciliacao', 'n_audiencias_instrucao', 'n_pericias_realizadas' , 'processo_arquivado', 'n_movimentacoes', 'tempo_processual', 'n_dias_ate_sentenca']]"
      ]
    },
    {
      "cell_type": "code",
      "execution_count": null,
      "metadata": {
        "colab": {
          "base_uri": "https://localhost:8080/",
          "height": 206
        },
        "id": "l-cIbGNdGThJ",
        "outputId": "b26a2418-a397-4162-aebc-8f7539fb5438"
      },
      "outputs": [
        {
          "data": {
            "text/html": [
              "\n",
              "  <div id=\"df-4dcd197d-7e8b-47ea-9c92-ed4a35cb76ee\">\n",
              "    <div class=\"colab-df-container\">\n",
              "      <div>\n",
              "<style scoped>\n",
              "    .dataframe tbody tr th:only-of-type {\n",
              "        vertical-align: middle;\n",
              "    }\n",
              "\n",
              "    .dataframe tbody tr th {\n",
              "        vertical-align: top;\n",
              "    }\n",
              "\n",
              "    .dataframe thead th {\n",
              "        text-align: right;\n",
              "    }\n",
              "</style>\n",
              "<table border=\"1\" class=\"dataframe\">\n",
              "  <thead>\n",
              "    <tr style=\"text-align: right;\">\n",
              "      <th></th>\n",
              "      <th>num_advogados</th>\n",
              "      <th>n_audiencias_conciliacao</th>\n",
              "      <th>n_audiencias_instrucao</th>\n",
              "      <th>n_pericias_realizadas</th>\n",
              "      <th>processo_arquivado</th>\n",
              "      <th>n_movimentacoes</th>\n",
              "      <th>tempo_processual</th>\n",
              "      <th>n_dias_ate_sentenca</th>\n",
              "    </tr>\n",
              "  </thead>\n",
              "  <tbody>\n",
              "    <tr>\n",
              "      <th>0</th>\n",
              "      <td>1</td>\n",
              "      <td>0</td>\n",
              "      <td>0</td>\n",
              "      <td>0</td>\n",
              "      <td>1</td>\n",
              "      <td>56</td>\n",
              "      <td>238.0</td>\n",
              "      <td>76.307593</td>\n",
              "    </tr>\n",
              "    <tr>\n",
              "      <th>1</th>\n",
              "      <td>1</td>\n",
              "      <td>0</td>\n",
              "      <td>0</td>\n",
              "      <td>0</td>\n",
              "      <td>&lt;NA&gt;</td>\n",
              "      <td>&lt;NA&gt;</td>\n",
              "      <td>NaN</td>\n",
              "      <td>20.844491</td>\n",
              "    </tr>\n",
              "    <tr>\n",
              "      <th>2</th>\n",
              "      <td>1</td>\n",
              "      <td>0</td>\n",
              "      <td>0</td>\n",
              "      <td>0</td>\n",
              "      <td>&lt;NA&gt;</td>\n",
              "      <td>&lt;NA&gt;</td>\n",
              "      <td>NaN</td>\n",
              "      <td>143.822245</td>\n",
              "    </tr>\n",
              "    <tr>\n",
              "      <th>3</th>\n",
              "      <td>2</td>\n",
              "      <td>0</td>\n",
              "      <td>0</td>\n",
              "      <td>0</td>\n",
              "      <td>&lt;NA&gt;</td>\n",
              "      <td>&lt;NA&gt;</td>\n",
              "      <td>NaN</td>\n",
              "      <td>21.360567</td>\n",
              "    </tr>\n",
              "    <tr>\n",
              "      <th>4</th>\n",
              "      <td>1</td>\n",
              "      <td>0</td>\n",
              "      <td>0</td>\n",
              "      <td>0</td>\n",
              "      <td>1</td>\n",
              "      <td>114</td>\n",
              "      <td>1065.0</td>\n",
              "      <td>784.066493</td>\n",
              "    </tr>\n",
              "  </tbody>\n",
              "</table>\n",
              "</div>\n",
              "      <button class=\"colab-df-convert\" onclick=\"convertToInteractive('df-4dcd197d-7e8b-47ea-9c92-ed4a35cb76ee')\"\n",
              "              title=\"Convert this dataframe to an interactive table.\"\n",
              "              style=\"display:none;\">\n",
              "        \n",
              "  <svg xmlns=\"http://www.w3.org/2000/svg\" height=\"24px\"viewBox=\"0 0 24 24\"\n",
              "       width=\"24px\">\n",
              "    <path d=\"M0 0h24v24H0V0z\" fill=\"none\"/>\n",
              "    <path d=\"M18.56 5.44l.94 2.06.94-2.06 2.06-.94-2.06-.94-.94-2.06-.94 2.06-2.06.94zm-11 1L8.5 8.5l.94-2.06 2.06-.94-2.06-.94L8.5 2.5l-.94 2.06-2.06.94zm10 10l.94 2.06.94-2.06 2.06-.94-2.06-.94-.94-2.06-.94 2.06-2.06.94z\"/><path d=\"M17.41 7.96l-1.37-1.37c-.4-.4-.92-.59-1.43-.59-.52 0-1.04.2-1.43.59L10.3 9.45l-7.72 7.72c-.78.78-.78 2.05 0 2.83L4 21.41c.39.39.9.59 1.41.59.51 0 1.02-.2 1.41-.59l7.78-7.78 2.81-2.81c.8-.78.8-2.07 0-2.86zM5.41 20L4 18.59l7.72-7.72 1.47 1.35L5.41 20z\"/>\n",
              "  </svg>\n",
              "      </button>\n",
              "      \n",
              "  <style>\n",
              "    .colab-df-container {\n",
              "      display:flex;\n",
              "      flex-wrap:wrap;\n",
              "      gap: 12px;\n",
              "    }\n",
              "\n",
              "    .colab-df-convert {\n",
              "      background-color: #E8F0FE;\n",
              "      border: none;\n",
              "      border-radius: 50%;\n",
              "      cursor: pointer;\n",
              "      display: none;\n",
              "      fill: #1967D2;\n",
              "      height: 32px;\n",
              "      padding: 0 0 0 0;\n",
              "      width: 32px;\n",
              "    }\n",
              "\n",
              "    .colab-df-convert:hover {\n",
              "      background-color: #E2EBFA;\n",
              "      box-shadow: 0px 1px 2px rgba(60, 64, 67, 0.3), 0px 1px 3px 1px rgba(60, 64, 67, 0.15);\n",
              "      fill: #174EA6;\n",
              "    }\n",
              "\n",
              "    [theme=dark] .colab-df-convert {\n",
              "      background-color: #3B4455;\n",
              "      fill: #D2E3FC;\n",
              "    }\n",
              "\n",
              "    [theme=dark] .colab-df-convert:hover {\n",
              "      background-color: #434B5C;\n",
              "      box-shadow: 0px 1px 3px 1px rgba(0, 0, 0, 0.15);\n",
              "      filter: drop-shadow(0px 1px 2px rgba(0, 0, 0, 0.3));\n",
              "      fill: #FFFFFF;\n",
              "    }\n",
              "  </style>\n",
              "\n",
              "      <script>\n",
              "        const buttonEl =\n",
              "          document.querySelector('#df-4dcd197d-7e8b-47ea-9c92-ed4a35cb76ee button.colab-df-convert');\n",
              "        buttonEl.style.display =\n",
              "          google.colab.kernel.accessAllowed ? 'block' : 'none';\n",
              "\n",
              "        async function convertToInteractive(key) {\n",
              "          const element = document.querySelector('#df-4dcd197d-7e8b-47ea-9c92-ed4a35cb76ee');\n",
              "          const dataTable =\n",
              "            await google.colab.kernel.invokeFunction('convertToInteractive',\n",
              "                                                     [key], {});\n",
              "          if (!dataTable) return;\n",
              "\n",
              "          const docLinkHtml = 'Like what you see? Visit the ' +\n",
              "            '<a target=\"_blank\" href=https://colab.research.google.com/notebooks/data_table.ipynb>data table notebook</a>'\n",
              "            + ' to learn more about interactive tables.';\n",
              "          element.innerHTML = '';\n",
              "          dataTable['output_type'] = 'display_data';\n",
              "          await google.colab.output.renderOutput(dataTable, element);\n",
              "          const docLink = document.createElement('div');\n",
              "          docLink.innerHTML = docLinkHtml;\n",
              "          element.appendChild(docLink);\n",
              "        }\n",
              "      </script>\n",
              "    </div>\n",
              "  </div>\n",
              "  "
            ],
            "text/plain": [
              "   num_advogados  n_audiencias_conciliacao  n_audiencias_instrucao  \\\n",
              "0              1                         0                       0   \n",
              "1              1                         0                       0   \n",
              "2              1                         0                       0   \n",
              "3              2                         0                       0   \n",
              "4              1                         0                       0   \n",
              "\n",
              "   n_pericias_realizadas  processo_arquivado  n_movimentacoes  \\\n",
              "0                      0                   1               56   \n",
              "1                      0                <NA>             <NA>   \n",
              "2                      0                <NA>             <NA>   \n",
              "3                      0                <NA>             <NA>   \n",
              "4                      0                   1              114   \n",
              "\n",
              "   tempo_processual  n_dias_ate_sentenca  \n",
              "0             238.0            76.307593  \n",
              "1               NaN            20.844491  \n",
              "2               NaN           143.822245  \n",
              "3               NaN            21.360567  \n",
              "4            1065.0           784.066493  "
            ]
          },
          "execution_count": 14,
          "metadata": {},
          "output_type": "execute_result"
        }
      ],
      "source": [
        "df_numerico.head()"
      ]
    },
    {
      "cell_type": "code",
      "execution_count": null,
      "metadata": {
        "colab": {
          "base_uri": "https://localhost:8080/"
        },
        "id": "QjVScx8yGa8b",
        "outputId": "df5839bd-7812-46ab-800d-b3a8b2fcb404"
      },
      "outputs": [
        {
          "data": {
            "text/plain": [
              "num_advogados                  0\n",
              "n_audiencias_conciliacao       0\n",
              "n_audiencias_instrucao         0\n",
              "n_pericias_realizadas          0\n",
              "processo_arquivado          1638\n",
              "n_movimentacoes             1638\n",
              "tempo_processual            1638\n",
              "n_dias_ate_sentenca            0\n",
              "dtype: int64"
            ]
          },
          "execution_count": 90,
          "metadata": {},
          "output_type": "execute_result"
        }
      ],
      "source": [
        "# verificando quantidade de celulas nulas\n",
        "df_numerico.isna().sum()"
      ]
    },
    {
      "cell_type": "code",
      "execution_count": null,
      "metadata": {
        "id": "0qK2QAVnKck8"
      },
      "outputs": [],
      "source": [
        "# visualizar só as instâncias que tem valores ausentes\n",
        "df_numerico[df_numerico.isnull().sum(axis = 1) != 0]"
      ]
    },
    {
      "cell_type": "code",
      "execution_count": null,
      "metadata": {
        "id": "TvvvMdoAKQzk"
      },
      "outputs": [],
      "source": [
        "# vamos substituir o valor ausente das categorias com a média deste atributo em relação às demais do conjunto de dados.\n",
        "df_numerico['tempo_processual'] = df_numerico['tempo_processual'].where(pd.notna(df_numerico['tempo_processual']), df_numerico['tempo_processual'].mean())"
      ]
    },
    {
      "cell_type": "code",
      "execution_count": null,
      "metadata": {
        "colab": {
          "base_uri": "https://localhost:8080/",
          "height": 300
        },
        "id": "Yvq7dVg37YHg",
        "outputId": "ce8261e7-8ca0-469f-eb49-df0829321081"
      },
      "outputs": [
        {
          "data": {
            "text/html": [
              "\n",
              "  <div id=\"df-267e1922-1562-49ea-b9d9-7f65ede46574\">\n",
              "    <div class=\"colab-df-container\">\n",
              "      <div>\n",
              "<style scoped>\n",
              "    .dataframe tbody tr th:only-of-type {\n",
              "        vertical-align: middle;\n",
              "    }\n",
              "\n",
              "    .dataframe tbody tr th {\n",
              "        vertical-align: top;\n",
              "    }\n",
              "\n",
              "    .dataframe thead th {\n",
              "        text-align: right;\n",
              "    }\n",
              "</style>\n",
              "<table border=\"1\" class=\"dataframe\">\n",
              "  <thead>\n",
              "    <tr style=\"text-align: right;\">\n",
              "      <th></th>\n",
              "      <th>num_advogados</th>\n",
              "      <th>n_audiencias_conciliacao</th>\n",
              "      <th>n_audiencias_instrucao</th>\n",
              "      <th>n_pericias_realizadas</th>\n",
              "      <th>processo_arquivado</th>\n",
              "      <th>n_movimentacoes</th>\n",
              "      <th>tempo_processual</th>\n",
              "      <th>n_dias_ate_sentenca</th>\n",
              "    </tr>\n",
              "  </thead>\n",
              "  <tbody>\n",
              "    <tr>\n",
              "      <th>count</th>\n",
              "      <td>5000.000000</td>\n",
              "      <td>5000.000000</td>\n",
              "      <td>5000.000000</td>\n",
              "      <td>5000.000000</td>\n",
              "      <td>3362.000000</td>\n",
              "      <td>3362.000000</td>\n",
              "      <td>3362.000000</td>\n",
              "      <td>5000.000000</td>\n",
              "    </tr>\n",
              "    <tr>\n",
              "      <th>mean</th>\n",
              "      <td>1.159200</td>\n",
              "      <td>0.082000</td>\n",
              "      <td>0.150000</td>\n",
              "      <td>0.409800</td>\n",
              "      <td>0.920880</td>\n",
              "      <td>44.306068</td>\n",
              "      <td>247.064456</td>\n",
              "      <td>123.781600</td>\n",
              "    </tr>\n",
              "    <tr>\n",
              "      <th>std</th>\n",
              "      <td>0.579588</td>\n",
              "      <td>0.280164</td>\n",
              "      <td>0.369225</td>\n",
              "      <td>0.550568</td>\n",
              "      <td>0.269965</td>\n",
              "      <td>25.691253</td>\n",
              "      <td>268.830437</td>\n",
              "      <td>130.592511</td>\n",
              "    </tr>\n",
              "    <tr>\n",
              "      <th>min</th>\n",
              "      <td>0.000000</td>\n",
              "      <td>0.000000</td>\n",
              "      <td>0.000000</td>\n",
              "      <td>0.000000</td>\n",
              "      <td>0.000000</td>\n",
              "      <td>8.000000</td>\n",
              "      <td>0.065308</td>\n",
              "      <td>0.017812</td>\n",
              "    </tr>\n",
              "    <tr>\n",
              "      <th>25%</th>\n",
              "      <td>1.000000</td>\n",
              "      <td>0.000000</td>\n",
              "      <td>0.000000</td>\n",
              "      <td>0.000000</td>\n",
              "      <td>1.000000</td>\n",
              "      <td>28.000000</td>\n",
              "      <td>97.515625</td>\n",
              "      <td>47.270289</td>\n",
              "    </tr>\n",
              "    <tr>\n",
              "      <th>50%</th>\n",
              "      <td>1.000000</td>\n",
              "      <td>0.000000</td>\n",
              "      <td>0.000000</td>\n",
              "      <td>0.000000</td>\n",
              "      <td>1.000000</td>\n",
              "      <td>39.000000</td>\n",
              "      <td>169.750000</td>\n",
              "      <td>91.070312</td>\n",
              "    </tr>\n",
              "    <tr>\n",
              "      <th>75%</th>\n",
              "      <td>1.000000</td>\n",
              "      <td>0.000000</td>\n",
              "      <td>0.000000</td>\n",
              "      <td>1.000000</td>\n",
              "      <td>1.000000</td>\n",
              "      <td>54.000000</td>\n",
              "      <td>293.000000</td>\n",
              "      <td>159.234786</td>\n",
              "    </tr>\n",
              "    <tr>\n",
              "      <th>max</th>\n",
              "      <td>8.000000</td>\n",
              "      <td>2.000000</td>\n",
              "      <td>3.000000</td>\n",
              "      <td>3.000000</td>\n",
              "      <td>1.000000</td>\n",
              "      <td>492.000000</td>\n",
              "      <td>3214.000000</td>\n",
              "      <td>1840.410521</td>\n",
              "    </tr>\n",
              "  </tbody>\n",
              "</table>\n",
              "</div>\n",
              "      <button class=\"colab-df-convert\" onclick=\"convertToInteractive('df-267e1922-1562-49ea-b9d9-7f65ede46574')\"\n",
              "              title=\"Convert this dataframe to an interactive table.\"\n",
              "              style=\"display:none;\">\n",
              "        \n",
              "  <svg xmlns=\"http://www.w3.org/2000/svg\" height=\"24px\"viewBox=\"0 0 24 24\"\n",
              "       width=\"24px\">\n",
              "    <path d=\"M0 0h24v24H0V0z\" fill=\"none\"/>\n",
              "    <path d=\"M18.56 5.44l.94 2.06.94-2.06 2.06-.94-2.06-.94-.94-2.06-.94 2.06-2.06.94zm-11 1L8.5 8.5l.94-2.06 2.06-.94-2.06-.94L8.5 2.5l-.94 2.06-2.06.94zm10 10l.94 2.06.94-2.06 2.06-.94-2.06-.94-.94-2.06-.94 2.06-2.06.94z\"/><path d=\"M17.41 7.96l-1.37-1.37c-.4-.4-.92-.59-1.43-.59-.52 0-1.04.2-1.43.59L10.3 9.45l-7.72 7.72c-.78.78-.78 2.05 0 2.83L4 21.41c.39.39.9.59 1.41.59.51 0 1.02-.2 1.41-.59l7.78-7.78 2.81-2.81c.8-.78.8-2.07 0-2.86zM5.41 20L4 18.59l7.72-7.72 1.47 1.35L5.41 20z\"/>\n",
              "  </svg>\n",
              "      </button>\n",
              "      \n",
              "  <style>\n",
              "    .colab-df-container {\n",
              "      display:flex;\n",
              "      flex-wrap:wrap;\n",
              "      gap: 12px;\n",
              "    }\n",
              "\n",
              "    .colab-df-convert {\n",
              "      background-color: #E8F0FE;\n",
              "      border: none;\n",
              "      border-radius: 50%;\n",
              "      cursor: pointer;\n",
              "      display: none;\n",
              "      fill: #1967D2;\n",
              "      height: 32px;\n",
              "      padding: 0 0 0 0;\n",
              "      width: 32px;\n",
              "    }\n",
              "\n",
              "    .colab-df-convert:hover {\n",
              "      background-color: #E2EBFA;\n",
              "      box-shadow: 0px 1px 2px rgba(60, 64, 67, 0.3), 0px 1px 3px 1px rgba(60, 64, 67, 0.15);\n",
              "      fill: #174EA6;\n",
              "    }\n",
              "\n",
              "    [theme=dark] .colab-df-convert {\n",
              "      background-color: #3B4455;\n",
              "      fill: #D2E3FC;\n",
              "    }\n",
              "\n",
              "    [theme=dark] .colab-df-convert:hover {\n",
              "      background-color: #434B5C;\n",
              "      box-shadow: 0px 1px 3px 1px rgba(0, 0, 0, 0.15);\n",
              "      filter: drop-shadow(0px 1px 2px rgba(0, 0, 0, 0.3));\n",
              "      fill: #FFFFFF;\n",
              "    }\n",
              "  </style>\n",
              "\n",
              "      <script>\n",
              "        const buttonEl =\n",
              "          document.querySelector('#df-267e1922-1562-49ea-b9d9-7f65ede46574 button.colab-df-convert');\n",
              "        buttonEl.style.display =\n",
              "          google.colab.kernel.accessAllowed ? 'block' : 'none';\n",
              "\n",
              "        async function convertToInteractive(key) {\n",
              "          const element = document.querySelector('#df-267e1922-1562-49ea-b9d9-7f65ede46574');\n",
              "          const dataTable =\n",
              "            await google.colab.kernel.invokeFunction('convertToInteractive',\n",
              "                                                     [key], {});\n",
              "          if (!dataTable) return;\n",
              "\n",
              "          const docLinkHtml = 'Like what you see? Visit the ' +\n",
              "            '<a target=\"_blank\" href=https://colab.research.google.com/notebooks/data_table.ipynb>data table notebook</a>'\n",
              "            + ' to learn more about interactive tables.';\n",
              "          element.innerHTML = '';\n",
              "          dataTable['output_type'] = 'display_data';\n",
              "          await google.colab.output.renderOutput(dataTable, element);\n",
              "          const docLink = document.createElement('div');\n",
              "          docLink.innerHTML = docLinkHtml;\n",
              "          element.appendChild(docLink);\n",
              "        }\n",
              "      </script>\n",
              "    </div>\n",
              "  </div>\n",
              "  "
            ],
            "text/plain": [
              "       num_advogados  n_audiencias_conciliacao  n_audiencias_instrucao  \\\n",
              "count    5000.000000               5000.000000             5000.000000   \n",
              "mean        1.159200                  0.082000                0.150000   \n",
              "std         0.579588                  0.280164                0.369225   \n",
              "min         0.000000                  0.000000                0.000000   \n",
              "25%         1.000000                  0.000000                0.000000   \n",
              "50%         1.000000                  0.000000                0.000000   \n",
              "75%         1.000000                  0.000000                0.000000   \n",
              "max         8.000000                  2.000000                3.000000   \n",
              "\n",
              "       n_pericias_realizadas  processo_arquivado  n_movimentacoes  \\\n",
              "count            5000.000000         3362.000000      3362.000000   \n",
              "mean                0.409800            0.920880        44.306068   \n",
              "std                 0.550568            0.269965        25.691253   \n",
              "min                 0.000000            0.000000         8.000000   \n",
              "25%                 0.000000            1.000000        28.000000   \n",
              "50%                 0.000000            1.000000        39.000000   \n",
              "75%                 1.000000            1.000000        54.000000   \n",
              "max                 3.000000            1.000000       492.000000   \n",
              "\n",
              "       tempo_processual  n_dias_ate_sentenca  \n",
              "count       3362.000000          5000.000000  \n",
              "mean         247.064456           123.781600  \n",
              "std          268.830437           130.592511  \n",
              "min            0.065308             0.017812  \n",
              "25%           97.515625            47.270289  \n",
              "50%          169.750000            91.070312  \n",
              "75%          293.000000           159.234786  \n",
              "max         3214.000000          1840.410521  "
            ]
          },
          "execution_count": 89,
          "metadata": {},
          "output_type": "execute_result"
        }
      ],
      "source": [
        "df_numerico.describe()"
      ]
    },
    {
      "cell_type": "markdown",
      "metadata": {
        "id": "29loIznKNofM"
      },
      "source": [
        "### Analise grafica dos dados continuos e discretos relevantes"
      ]
    },
    {
      "cell_type": "code",
      "execution_count": null,
      "metadata": {
        "colab": {
          "base_uri": "https://localhost:8080/",
          "height": 1000
        },
        "id": "oEA9FVFhT7Qn",
        "outputId": "9bcd2c30-0a96-4b3a-e9b8-a732d95e92eb"
      },
      "outputs": [
        {
          "data": {
            "text/plain": [
              "array([[<matplotlib.axes._subplots.AxesSubplot object at 0x7f3d8ba48310>,\n",
              "        <matplotlib.axes._subplots.AxesSubplot object at 0x7f3d887c9950>,\n",
              "        <matplotlib.axes._subplots.AxesSubplot object at 0x7f3d88793f90>],\n",
              "       [<matplotlib.axes._subplots.AxesSubplot object at 0x7f3d84c47d50>,\n",
              "        <matplotlib.axes._subplots.AxesSubplot object at 0x7f3d87e95490>,\n",
              "        <matplotlib.axes._subplots.AxesSubplot object at 0x7f3d85e06ad0>],\n",
              "       [<matplotlib.axes._subplots.AxesSubplot object at 0x7f3d87e80350>,\n",
              "        <matplotlib.axes._subplots.AxesSubplot object at 0x7f3d84841c50>,\n",
              "        <matplotlib.axes._subplots.AxesSubplot object at 0x7f3d84841d10>]],\n",
              "      dtype=object)"
            ]
          },
          "execution_count": 138,
          "metadata": {},
          "output_type": "execute_result"
        },
        {
          "data": {
            "image/png": "[encoded data removed]",
            "text/plain": [
              "<Figure size 1440x1440 with 9 Axes>"
            ]
          },
          "metadata": {},
          "output_type": "display_data"
        }
      ],
      "source": [
        "# podemos utilizar formas mais visuais para ter uma noção do padrão de comportamento dos nossos dados.\n",
        "df_numerico.hist(figsize=(20, 20), bins=50, xlabelsize=8, ylabelsize=8)"
      ]
    },
    {
      "cell_type": "code",
      "execution_count": null,
      "metadata": {
        "colab": {
          "base_uri": "https://localhost:8080/",
          "height": 820
        },
        "id": "KwYEbnMoU5ij",
        "outputId": "72ad4b3c-680e-4516-cd86-a0cd4d16160c"
      },
      "outputs": [
        {
          "data": {
            "image/png": "[encoded data removed]",
            "text/plain": [
              "<Figure size 864x864 with 2 Axes>"
            ]
          },
          "metadata": {},
          "output_type": "display_data"
        }
      ],
      "source": [
        "# visualizar correlação entre as variáveis\n",
        "plt.figure(figsize=(12, 12))\n",
        "sns.heatmap(df_numerico.corr(), cmap='Blues');"
      ]
    },
    {
      "cell_type": "markdown",
      "metadata": {
        "id": "Dm7diNNhmhX-"
      },
      "source": [
        "o mapa de calor, conhecido como heartmap() é construido com base no coeficiente de pearson, que define o grau de correlação entre duas variáveis na estatística. Para efeitos práticos, agora só é necessário entender que quanto mais perto o coeficiente estiver de 1, mais positivamente correlacionadas as variáveis estarão. E quanto mais perto de -1, mais negativamente."
      ]
    },
    {
      "cell_type": "markdown",
      "metadata": {
        "id": "5V_Cx2VfV6dM"
      },
      "source": [
        "Podemos visualizar que temos uma possível correlacao entre as variaveis de tempo processual com o numero de movimentacoes do processo e numero de dias até sentença."
      ]
    },
    {
      "cell_type": "markdown",
      "metadata": {
        "id": "ue97mgtNGu7O"
      },
      "source": [
        "## Analise exploratoria de dados categoricos e descritivos"
      ]
    },
    {
      "cell_type": "code",
      "execution_count": null,
      "metadata": {
        "id": "5Kw4A6wOd_jZ"
      },
      "outputs": [],
      "source": [
        "# Verificar tipos de dados\n",
        "dataset.dtypes"
      ]
    },
    {
      "cell_type": "code",
      "execution_count": null,
      "metadata": {
        "id": "Q2uKvbWp5tlw"
      },
      "outputs": [],
      "source": [
        "#selecao das variaveis categoricas/descritivas relevantes para analise\n",
        "df_categorico = dataset.loc[:,['autor','reu','tutela_antecipada', 'vara', 'titular_substituto','classe_atual','assunto_cnj','complemento_assunto_cnj','detalhe_assunto_cnj','advogado_1','juizado_itinerante','medida_acautelatoria', 'justica_gratuita', 'ministerio_publico', 'prioridade_processual', 'rpv', 'tipo_distribuicao', 'pedido_urgencia','nome_perito', 'liminar','magistrado_sentenca','resultado_1_grau','conteudo_sentenca','relator_acordao', 'resultado_2_grau', 'conteudo_acordao']]"
      ]
    },
    {
      "cell_type": "code",
      "execution_count": null,
      "metadata": {
        "colab": {
          "base_uri": "https://localhost:8080/",
          "height": 647
        },
        "id": "qCmFLmgOgH2b",
        "outputId": "fba65470-39d8-42cf-f26b-2298af78c1ab"
      },
      "outputs": [
        {
          "data": {
            "text/html": [
              "\n",
              "  <div id=\"df-97d0282d-8c02-4e6a-a081-585517af1ab3\">\n",
              "    <div class=\"colab-df-container\">\n",
              "      <div>\n",
              "<style scoped>\n",
              "    .dataframe tbody tr th:only-of-type {\n",
              "        vertical-align: middle;\n",
              "    }\n",
              "\n",
              "    .dataframe tbody tr th {\n",
              "        vertical-align: top;\n",
              "    }\n",
              "\n",
              "    .dataframe thead th {\n",
              "        text-align: right;\n",
              "    }\n",
              "</style>\n",
              "<table border=\"1\" class=\"dataframe\">\n",
              "  <thead>\n",
              "    <tr style=\"text-align: right;\">\n",
              "      <th></th>\n",
              "      <th>autor</th>\n",
              "      <th>reu</th>\n",
              "      <th>tutela_antecipada</th>\n",
              "      <th>vara</th>\n",
              "      <th>titular_substituto</th>\n",
              "      <th>classe_atual</th>\n",
              "      <th>assunto_cnj</th>\n",
              "      <th>complemento_assunto_cnj</th>\n",
              "      <th>detalhe_assunto_cnj</th>\n",
              "      <th>advogado_1</th>\n",
              "      <th>...</th>\n",
              "      <th>tipo_distribuicao</th>\n",
              "      <th>pedido_urgencia</th>\n",
              "      <th>nome_perito</th>\n",
              "      <th>liminar</th>\n",
              "      <th>magistrado_sentenca</th>\n",
              "      <th>resultado_1_grau</th>\n",
              "      <th>conteudo_sentenca</th>\n",
              "      <th>relator_acordao</th>\n",
              "      <th>resultado_2_grau</th>\n",
              "      <th>conteudo_acordao</th>\n",
              "    </tr>\n",
              "  </thead>\n",
              "  <tbody>\n",
              "    <tr>\n",
              "      <th>0</th>\n",
              "      <td>Lourival Francisco da Silva (027.173.384-54)\\n...</td>\n",
              "      <td>Fazenda Nacional (00.394.460/0239-40)\\nMunicíp...</td>\n",
              "      <td>N</td>\n",
              "      <td>9-RN</td>\n",
              "      <td>Titular</td>\n",
              "      <td>Execução de Título Judicial</td>\n",
              "      <td>Direito Tributário</td>\n",
              "      <td>Contribuições</td>\n",
              "      <td>Contribuições Previdenciárias</td>\n",
              "      <td>RN008392</td>\n",
              "      <td>...</td>\n",
              "      <td>Automática</td>\n",
              "      <td>N</td>\n",
              "      <td>SEM PERÍCIA</td>\n",
              "      <td>SEM PEDIDO LIMINAR</td>\n",
              "      <td>ARNALDO PEREIRA DE ANDRADE SEGUNDO</td>\n",
              "      <td>PROCEDENTE</td>\n",
              "      <td>SENTENÇA 1. Relatório Cuida-se de ação propost...</td>\n",
              "      <td>Almiro José da Rocha Lemos</td>\n",
              "      <td>NÃO PROVIMENTO</td>\n",
              "      <td>PROCESSO 0500454-62.2017.4.05.8402  EMENTA:DIR...</td>\n",
              "    </tr>\n",
              "    <tr>\n",
              "      <th>1</th>\n",
              "      <td>MARIA LUCIA CARDOSO (382.242.084-00)\\nEmanuel ...</td>\n",
              "      <td>Caixa Econômica Federal (00.360.305/0001-04)</td>\n",
              "      <td>N</td>\n",
              "      <td>9-AL</td>\n",
              "      <td>Titular</td>\n",
              "      <td>Procedimento do Juizado Especial Cível</td>\n",
              "      <td>Direito Civil</td>\n",
              "      <td>Responsabilidade Civil</td>\n",
              "      <td>Indenização por Dano Moral</td>\n",
              "      <td>AL002019</td>\n",
              "      <td>...</td>\n",
              "      <td>Automática</td>\n",
              "      <td>S</td>\n",
              "      <td>SEM PERÍCIA</td>\n",
              "      <td>SEM PEDIDO LIMINAR</td>\n",
              "      <td>ANDRÉ CARVALHO MONTEIRO</td>\n",
              "      <td>EXTINTO SEM MÉRITO</td>\n",
              "      <td>SENTENÇA Trata-se de ação especial cível, em c...</td>\n",
              "      <td>NaN</td>\n",
              "      <td>NaN</td>\n",
              "      <td>None</td>\n",
              "    </tr>\n",
              "    <tr>\n",
              "      <th>2</th>\n",
              "      <td>QUITÉRIA BARBOSA DA SILVA NASCIMENTO (062.819....</td>\n",
              "      <td>Instituto Nacional do Seguro Social - INSS (29...</td>\n",
              "      <td>N</td>\n",
              "      <td>23-PE</td>\n",
              "      <td>Titular</td>\n",
              "      <td>Procedimento do Juizado Especial Cível</td>\n",
              "      <td>Direito Previdenciário</td>\n",
              "      <td>RMI - Renda Mensal Inicial, Reajustes e Revisõ...</td>\n",
              "      <td>Reajustes e Revisões Específicos</td>\n",
              "      <td>PE020418</td>\n",
              "      <td>...</td>\n",
              "      <td>Automática</td>\n",
              "      <td>N</td>\n",
              "      <td>SEM PERÍCIA</td>\n",
              "      <td>SEM PEDIDO LIMINAR</td>\n",
              "      <td>ANDRÉ CARVALHO MONTEIRO</td>\n",
              "      <td>EXTINTO SEM MÉRITO</td>\n",
              "      <td>SENTENÇA Vistos etc. Trata-se de ação especial...</td>\n",
              "      <td>NaN</td>\n",
              "      <td>NaN</td>\n",
              "      <td>None</td>\n",
              "    </tr>\n",
              "    <tr>\n",
              "      <th>3</th>\n",
              "      <td>Emanuela Carneiro Tabosa (777.839.723-49)\\nBru...</td>\n",
              "      <td>UNIÃO (FAZENDA NACIONAL) - Procuradoria da Faz...</td>\n",
              "      <td>N</td>\n",
              "      <td>19-CE</td>\n",
              "      <td>Titular</td>\n",
              "      <td>Procedimento do Juizado Especial Cível</td>\n",
              "      <td>Direito Tributário</td>\n",
              "      <td>Contribuições</td>\n",
              "      <td>Contribuições Previdenciárias</td>\n",
              "      <td>CE019341</td>\n",
              "      <td>...</td>\n",
              "      <td>Automática</td>\n",
              "      <td>S</td>\n",
              "      <td>SEM PERÍCIA</td>\n",
              "      <td>INDEFERIDA</td>\n",
              "      <td>ADONIAS RIBEIRO DE CARVALHO NETO</td>\n",
              "      <td>PROCEDENTE</td>\n",
              "      <td>SENTENÇA I - RELATÓRIO Cuida-se de ação em que...</td>\n",
              "      <td>CÍNTIA MENEZES BRUNETTA</td>\n",
              "      <td>NÃO PROVIMENTO</td>\n",
              "      <td>VOTO Relatório dispensado, nos termos do art. ...</td>\n",
              "    </tr>\n",
              "    <tr>\n",
              "      <th>4</th>\n",
              "      <td>Lúcio Flavio de Lima Albuquerque (095.403.004-...</td>\n",
              "      <td>ANGELA MARIA DO NASCIMENTO SILVA (157.771.544-...</td>\n",
              "      <td>N</td>\n",
              "      <td>19-PE</td>\n",
              "      <td>Substituto</td>\n",
              "      <td>Procedimento do Juizado Especial Cível</td>\n",
              "      <td>Direito Previdenciário</td>\n",
              "      <td>Pedidos Genéricos Relativos aos Benefícios em ...</td>\n",
              "      <td>Conversão</td>\n",
              "      <td>PE020070D</td>\n",
              "      <td>...</td>\n",
              "      <td>Automática</td>\n",
              "      <td>N</td>\n",
              "      <td>SEM PERÍCIA</td>\n",
              "      <td>SEM PEDIDO LIMINAR</td>\n",
              "      <td>GUILHERME SOARES DINIZ</td>\n",
              "      <td>IMPROCEDENTE</td>\n",
              "      <td>SENTENÇA Tipo A I – RELATÓRIO Dispensado o rel...</td>\n",
              "      <td>Joaquim Lustosa Filho</td>\n",
              "      <td>NÃO PROVIMENTO</td>\n",
              "      <td>EMENTA PREVIDENCIÁRIO. PENSÃO POR MORTE. PROVA...</td>\n",
              "    </tr>\n",
              "  </tbody>\n",
              "</table>\n",
              "<p>5 rows × 26 columns</p>\n",
              "</div>\n",
              "      <button class=\"colab-df-convert\" onclick=\"convertToInteractive('df-97d0282d-8c02-4e6a-a081-585517af1ab3')\"\n",
              "              title=\"Convert this dataframe to an interactive table.\"\n",
              "              style=\"display:none;\">\n",
              "        \n",
              "  <svg xmlns=\"http://www.w3.org/2000/svg\" height=\"24px\"viewBox=\"0 0 24 24\"\n",
              "       width=\"24px\">\n",
              "    <path d=\"M0 0h24v24H0V0z\" fill=\"none\"/>\n",
              "    <path d=\"M18.56 5.44l.94 2.06.94-2.06 2.06-.94-2.06-.94-.94-2.06-.94 2.06-2.06.94zm-11 1L8.5 8.5l.94-2.06 2.06-.94-2.06-.94L8.5 2.5l-.94 2.06-2.06.94zm10 10l.94 2.06.94-2.06 2.06-.94-2.06-.94-.94-2.06-.94 2.06-2.06.94z\"/><path d=\"M17.41 7.96l-1.37-1.37c-.4-.4-.92-.59-1.43-.59-.52 0-1.04.2-1.43.59L10.3 9.45l-7.72 7.72c-.78.78-.78 2.05 0 2.83L4 21.41c.39.39.9.59 1.41.59.51 0 1.02-.2 1.41-.59l7.78-7.78 2.81-2.81c.8-.78.8-2.07 0-2.86zM5.41 20L4 18.59l7.72-7.72 1.47 1.35L5.41 20z\"/>\n",
              "  </svg>\n",
              "      </button>\n",
              "      \n",
              "  <style>\n",
              "    .colab-df-container {\n",
              "      display:flex;\n",
              "      flex-wrap:wrap;\n",
              "      gap: 12px;\n",
              "    }\n",
              "\n",
              "    .colab-df-convert {\n",
              "      background-color: #E8F0FE;\n",
              "      border: none;\n",
              "      border-radius: 50%;\n",
              "      cursor: pointer;\n",
              "      display: none;\n",
              "      fill: #1967D2;\n",
              "      height: 32px;\n",
              "      padding: 0 0 0 0;\n",
              "      width: 32px;\n",
              "    }\n",
              "\n",
              "    .colab-df-convert:hover {\n",
              "      background-color: #E2EBFA;\n",
              "      box-shadow: 0px 1px 2px rgba(60, 64, 67, 0.3), 0px 1px 3px 1px rgba(60, 64, 67, 0.15);\n",
              "      fill: #174EA6;\n",
              "    }\n",
              "\n",
              "    [theme=dark] .colab-df-convert {\n",
              "      background-color: #3B4455;\n",
              "      fill: #D2E3FC;\n",
              "    }\n",
              "\n",
              "    [theme=dark] .colab-df-convert:hover {\n",
              "      background-color: #434B5C;\n",
              "      box-shadow: 0px 1px 3px 1px rgba(0, 0, 0, 0.15);\n",
              "      filter: drop-shadow(0px 1px 2px rgba(0, 0, 0, 0.3));\n",
              "      fill: #FFFFFF;\n",
              "    }\n",
              "  </style>\n",
              "\n",
              "      <script>\n",
              "        const buttonEl =\n",
              "          document.querySelector('#df-97d0282d-8c02-4e6a-a081-585517af1ab3 button.colab-df-convert');\n",
              "        buttonEl.style.display =\n",
              "          google.colab.kernel.accessAllowed ? 'block' : 'none';\n",
              "\n",
              "        async function convertToInteractive(key) {\n",
              "          const element = document.querySelector('#df-97d0282d-8c02-4e6a-a081-585517af1ab3');\n",
              "          const dataTable =\n",
              "            await google.colab.kernel.invokeFunction('convertToInteractive',\n",
              "                                                     [key], {});\n",
              "          if (!dataTable) return;\n",
              "\n",
              "          const docLinkHtml = 'Like what you see? Visit the ' +\n",
              "            '<a target=\"_blank\" href=https://colab.research.google.com/notebooks/data_table.ipynb>data table notebook</a>'\n",
              "            + ' to learn more about interactive tables.';\n",
              "          element.innerHTML = '';\n",
              "          dataTable['output_type'] = 'display_data';\n",
              "          await google.colab.output.renderOutput(dataTable, element);\n",
              "          const docLink = document.createElement('div');\n",
              "          docLink.innerHTML = docLinkHtml;\n",
              "          element.appendChild(docLink);\n",
              "        }\n",
              "      </script>\n",
              "    </div>\n",
              "  </div>\n",
              "  "
            ],
            "text/plain": [
              "                                               autor  \\\n",
              "0  Lourival Francisco da Silva (027.173.384-54)\\n...   \n",
              "1  MARIA LUCIA CARDOSO (382.242.084-00)\\nEmanuel ...   \n",
              "2  QUITÉRIA BARBOSA DA SILVA NASCIMENTO (062.819....   \n",
              "3  Emanuela Carneiro Tabosa (777.839.723-49)\\nBru...   \n",
              "4  Lúcio Flavio de Lima Albuquerque (095.403.004-...   \n",
              "\n",
              "                                                 reu tutela_antecipada   vara  \\\n",
              "0  Fazenda Nacional (00.394.460/0239-40)\\nMunicíp...                 N   9-RN   \n",
              "1       Caixa Econômica Federal (00.360.305/0001-04)                 N   9-AL   \n",
              "2  Instituto Nacional do Seguro Social - INSS (29...                 N  23-PE   \n",
              "3  UNIÃO (FAZENDA NACIONAL) - Procuradoria da Faz...                 N  19-CE   \n",
              "4  ANGELA MARIA DO NASCIMENTO SILVA (157.771.544-...                 N  19-PE   \n",
              "\n",
              "  titular_substituto                            classe_atual  \\\n",
              "0            Titular             Execução de Título Judicial   \n",
              "1            Titular  Procedimento do Juizado Especial Cível   \n",
              "2            Titular  Procedimento do Juizado Especial Cível   \n",
              "3            Titular  Procedimento do Juizado Especial Cível   \n",
              "4         Substituto  Procedimento do Juizado Especial Cível   \n",
              "\n",
              "              assunto_cnj                            complemento_assunto_cnj  \\\n",
              "0      Direito Tributário                                      Contribuições   \n",
              "1           Direito Civil                             Responsabilidade Civil   \n",
              "2  Direito Previdenciário  RMI - Renda Mensal Inicial, Reajustes e Revisõ...   \n",
              "3      Direito Tributário                                      Contribuições   \n",
              "4  Direito Previdenciário  Pedidos Genéricos Relativos aos Benefícios em ...   \n",
              "\n",
              "                detalhe_assunto_cnj advogado_1  ... tipo_distribuicao  \\\n",
              "0     Contribuições Previdenciárias   RN008392  ...        Automática   \n",
              "1        Indenização por Dano Moral   AL002019  ...        Automática   \n",
              "2  Reajustes e Revisões Específicos   PE020418  ...        Automática   \n",
              "3     Contribuições Previdenciárias   CE019341  ...        Automática   \n",
              "4                         Conversão  PE020070D  ...        Automática   \n",
              "\n",
              "  pedido_urgencia  nome_perito             liminar  \\\n",
              "0               N  SEM PERÍCIA  SEM PEDIDO LIMINAR   \n",
              "1               S  SEM PERÍCIA  SEM PEDIDO LIMINAR   \n",
              "2               N  SEM PERÍCIA  SEM PEDIDO LIMINAR   \n",
              "3               S  SEM PERÍCIA          INDEFERIDA   \n",
              "4               N  SEM PERÍCIA  SEM PEDIDO LIMINAR   \n",
              "\n",
              "                  magistrado_sentenca    resultado_1_grau  \\\n",
              "0  ARNALDO PEREIRA DE ANDRADE SEGUNDO          PROCEDENTE   \n",
              "1            ANDRÉ CARVALHO MONTEIRO  EXTINTO SEM MÉRITO   \n",
              "2            ANDRÉ CARVALHO MONTEIRO  EXTINTO SEM MÉRITO   \n",
              "3    ADONIAS RIBEIRO DE CARVALHO NETO          PROCEDENTE   \n",
              "4              GUILHERME SOARES DINIZ        IMPROCEDENTE   \n",
              "\n",
              "                                   conteudo_sentenca  \\\n",
              "0  SENTENÇA 1. Relatório Cuida-se de ação propost...   \n",
              "1  SENTENÇA Trata-se de ação especial cível, em c...   \n",
              "2  SENTENÇA Vistos etc. Trata-se de ação especial...   \n",
              "3  SENTENÇA I - RELATÓRIO Cuida-se de ação em que...   \n",
              "4  SENTENÇA Tipo A I – RELATÓRIO Dispensado o rel...   \n",
              "\n",
              "              relator_acordao resultado_2_grau  \\\n",
              "0  Almiro José da Rocha Lemos   NÃO PROVIMENTO   \n",
              "1                         NaN              NaN   \n",
              "2                         NaN              NaN   \n",
              "3     CÍNTIA MENEZES BRUNETTA   NÃO PROVIMENTO   \n",
              "4       Joaquim Lustosa Filho   NÃO PROVIMENTO   \n",
              "\n",
              "                                    conteudo_acordao  \n",
              "0  PROCESSO 0500454-62.2017.4.05.8402  EMENTA:DIR...  \n",
              "1                                               None  \n",
              "2                                               None  \n",
              "3  VOTO Relatório dispensado, nos termos do art. ...  \n",
              "4  EMENTA PREVIDENCIÁRIO. PENSÃO POR MORTE. PROVA...  \n",
              "\n",
              "[5 rows x 26 columns]"
            ]
          },
          "execution_count": 42,
          "metadata": {},
          "output_type": "execute_result"
        }
      ],
      "source": [
        "df_categorico.head()"
      ]
    },
    {
      "cell_type": "markdown",
      "metadata": {
        "id": "kl-SRQ7uqQo7"
      },
      "source": [
        "### Visualizando Variáveis Qualitativas"
      ]
    },
    {
      "cell_type": "code",
      "execution_count": null,
      "metadata": {
        "id": "OwgvWsx2m7FA"
      },
      "outputs": [],
      "source": [
        "# contagem de ocorrencias de resposta binaria\n",
        "tutela_antecipada = df_categorico['tutela_antecipada'].value_counts().reset_index() \n",
        "juizado_itinerante = df_categorico['juizado_itinerante'].value_counts().reset_index() \n",
        "medida_acautelatoria = df_categorico['medida_acautelatoria'].value_counts().reset_index() \n",
        "justica_gratuita = df_categorico['justica_gratuita'].value_counts().reset_index() \n",
        "ministerio_publico = df_categorico['ministerio_publico'].value_counts().reset_index() \n",
        "prioridade_processual = df_categorico['prioridade_processual'].value_counts().reset_index() \n",
        "pedido_urgencia = df_categorico['pedido_urgencia'].value_counts().reset_index() "
      ]
    },
    {
      "cell_type": "code",
      "execution_count": null,
      "metadata": {
        "colab": {
          "base_uri": "https://localhost:8080/",
          "height": 206
        },
        "id": "QdMqGc9GTUsE",
        "outputId": "11717caa-15bf-4356-c71e-7e9414da35f8"
      },
      "outputs": [
        {
          "data": {
            "text/html": [
              "\n",
              "  <div id=\"df-63ab51fc-0fff-4f37-9a8e-812c69377490\">\n",
              "    <div class=\"colab-df-container\">\n",
              "      <div>\n",
              "<style scoped>\n",
              "    .dataframe tbody tr th:only-of-type {\n",
              "        vertical-align: middle;\n",
              "    }\n",
              "\n",
              "    .dataframe tbody tr th {\n",
              "        vertical-align: top;\n",
              "    }\n",
              "\n",
              "    .dataframe thead th {\n",
              "        text-align: right;\n",
              "    }\n",
              "</style>\n",
              "<table border=\"1\" class=\"dataframe\">\n",
              "  <thead>\n",
              "    <tr style=\"text-align: right;\">\n",
              "      <th></th>\n",
              "      <th>categorias</th>\n",
              "      <th>Não</th>\n",
              "      <th>Sim</th>\n",
              "    </tr>\n",
              "  </thead>\n",
              "  <tbody>\n",
              "    <tr>\n",
              "      <th>1</th>\n",
              "      <td>tutela_antecipada</td>\n",
              "      <td>4007</td>\n",
              "      <td>993</td>\n",
              "    </tr>\n",
              "    <tr>\n",
              "      <th>2</th>\n",
              "      <td>juizado_itinerante</td>\n",
              "      <td>4969</td>\n",
              "      <td>31</td>\n",
              "    </tr>\n",
              "    <tr>\n",
              "      <th>3</th>\n",
              "      <td>medida_acautelatoria</td>\n",
              "      <td>4983</td>\n",
              "      <td>17</td>\n",
              "    </tr>\n",
              "    <tr>\n",
              "      <th>4</th>\n",
              "      <td>justica_gratuita</td>\n",
              "      <td>362</td>\n",
              "      <td>4638</td>\n",
              "    </tr>\n",
              "    <tr>\n",
              "      <th>5</th>\n",
              "      <td>ministerio_publico</td>\n",
              "      <td>4889</td>\n",
              "      <td>111</td>\n",
              "    </tr>\n",
              "  </tbody>\n",
              "</table>\n",
              "</div>\n",
              "      <button class=\"colab-df-convert\" onclick=\"convertToInteractive('df-63ab51fc-0fff-4f37-9a8e-812c69377490')\"\n",
              "              title=\"Convert this dataframe to an interactive table.\"\n",
              "              style=\"display:none;\">\n",
              "        \n",
              "  <svg xmlns=\"http://www.w3.org/2000/svg\" height=\"24px\"viewBox=\"0 0 24 24\"\n",
              "       width=\"24px\">\n",
              "    <path d=\"M0 0h24v24H0V0z\" fill=\"none\"/>\n",
              "    <path d=\"M18.56 5.44l.94 2.06.94-2.06 2.06-.94-2.06-.94-.94-2.06-.94 2.06-2.06.94zm-11 1L8.5 8.5l.94-2.06 2.06-.94-2.06-.94L8.5 2.5l-.94 2.06-2.06.94zm10 10l.94 2.06.94-2.06 2.06-.94-2.06-.94-.94-2.06-.94 2.06-2.06.94z\"/><path d=\"M17.41 7.96l-1.37-1.37c-.4-.4-.92-.59-1.43-.59-.52 0-1.04.2-1.43.59L10.3 9.45l-7.72 7.72c-.78.78-.78 2.05 0 2.83L4 21.41c.39.39.9.59 1.41.59.51 0 1.02-.2 1.41-.59l7.78-7.78 2.81-2.81c.8-.78.8-2.07 0-2.86zM5.41 20L4 18.59l7.72-7.72 1.47 1.35L5.41 20z\"/>\n",
              "  </svg>\n",
              "      </button>\n",
              "      \n",
              "  <style>\n",
              "    .colab-df-container {\n",
              "      display:flex;\n",
              "      flex-wrap:wrap;\n",
              "      gap: 12px;\n",
              "    }\n",
              "\n",
              "    .colab-df-convert {\n",
              "      background-color: #E8F0FE;\n",
              "      border: none;\n",
              "      border-radius: 50%;\n",
              "      cursor: pointer;\n",
              "      display: none;\n",
              "      fill: #1967D2;\n",
              "      height: 32px;\n",
              "      padding: 0 0 0 0;\n",
              "      width: 32px;\n",
              "    }\n",
              "\n",
              "    .colab-df-convert:hover {\n",
              "      background-color: #E2EBFA;\n",
              "      box-shadow: 0px 1px 2px rgba(60, 64, 67, 0.3), 0px 1px 3px 1px rgba(60, 64, 67, 0.15);\n",
              "      fill: #174EA6;\n",
              "    }\n",
              "\n",
              "    [theme=dark] .colab-df-convert {\n",
              "      background-color: #3B4455;\n",
              "      fill: #D2E3FC;\n",
              "    }\n",
              "\n",
              "    [theme=dark] .colab-df-convert:hover {\n",
              "      background-color: #434B5C;\n",
              "      box-shadow: 0px 1px 3px 1px rgba(0, 0, 0, 0.15);\n",
              "      filter: drop-shadow(0px 1px 2px rgba(0, 0, 0, 0.3));\n",
              "      fill: #FFFFFF;\n",
              "    }\n",
              "  </style>\n",
              "\n",
              "      <script>\n",
              "        const buttonEl =\n",
              "          document.querySelector('#df-63ab51fc-0fff-4f37-9a8e-812c69377490 button.colab-df-convert');\n",
              "        buttonEl.style.display =\n",
              "          google.colab.kernel.accessAllowed ? 'block' : 'none';\n",
              "\n",
              "        async function convertToInteractive(key) {\n",
              "          const element = document.querySelector('#df-63ab51fc-0fff-4f37-9a8e-812c69377490');\n",
              "          const dataTable =\n",
              "            await google.colab.kernel.invokeFunction('convertToInteractive',\n",
              "                                                     [key], {});\n",
              "          if (!dataTable) return;\n",
              "\n",
              "          const docLinkHtml = 'Like what you see? Visit the ' +\n",
              "            '<a target=\"_blank\" href=https://colab.research.google.com/notebooks/data_table.ipynb>data table notebook</a>'\n",
              "            + ' to learn more about interactive tables.';\n",
              "          element.innerHTML = '';\n",
              "          dataTable['output_type'] = 'display_data';\n",
              "          await google.colab.output.renderOutput(dataTable, element);\n",
              "          const docLink = document.createElement('div');\n",
              "          docLink.innerHTML = docLinkHtml;\n",
              "          element.appendChild(docLink);\n",
              "        }\n",
              "      </script>\n",
              "    </div>\n",
              "  </div>\n",
              "  "
            ],
            "text/plain": [
              "             categorias   Não   Sim\n",
              "1     tutela_antecipada  4007   993\n",
              "2    juizado_itinerante  4969    31\n",
              "3  medida_acautelatoria  4983    17\n",
              "4      justica_gratuita   362  4638\n",
              "5    ministerio_publico  4889   111"
            ]
          },
          "execution_count": 208,
          "metadata": {},
          "output_type": "execute_result"
        }
      ],
      "source": [
        "#criando o dataframe de variaveis qualitativas ordinarias\n",
        "from functools import reduce\n",
        "data_frames = [tutela_antecipada,juizado_itinerante,medida_acautelatoria,justica_gratuita,ministerio_publico,prioridade_processual,pedido_urgencia]\n",
        "df_merged = reduce(lambda  left,right: pd.merge(left,right,on=['index'], how='outer'), data_frames)\n",
        "df_merged = df_merged.T\n",
        "df_merged.reset_index(inplace=True) \n",
        "df_merged.columns = ['categorias', 'Não' , 'Sim']\n",
        "df_merged = df_merged.drop(labels=0, axis=0)\n",
        "df_merged.head()"
      ]
    },
    {
      "cell_type": "code",
      "execution_count": null,
      "metadata": {
        "colab": {
          "base_uri": "https://localhost:8080/",
          "height": 798
        },
        "id": "iItF4ConbdgU",
        "outputId": "068adfb3-477d-43c0-f4ba-d5d454b391cf"
      },
      "outputs": [
        {
          "data": {
            "image/png": "[encoded data removed]",
            "text/plain": [
              "<Figure size 864x648 with 1 Axes>"
            ]
          },
          "metadata": {},
          "output_type": "display_data"
        }
      ],
      "source": [
        "#use fivethirty eights style of plots\n",
        "plt.style.use(\"fivethirtyeight\")\n",
        "#create the base axis to add the bars to\n",
        "fig, ax = plt.subplots(1,1, figsize = (12,9))\n",
        "#extract the labels\n",
        "label = df_merged['categorias']\n",
        "#use this to create x ticks to add the data to\n",
        "x = np.arange(len(label))\n",
        "#set a width for each bar \n",
        "width = 0.3\n",
        "#create out first bar\n",
        "rect1 = ax.bar(x - width/2,\n",
        "              df_merged['Não'],\n",
        "              width = width, \n",
        "              label = 'Nao')\n",
        "#create the second bar\n",
        "#with a centre half a width to the right\n",
        "\n",
        "rect2 = ax.bar(x + width/2,\n",
        "              df_merged['Sim'],\n",
        "              width = width,\n",
        "              label = 'Sim')\n",
        "#add the labels to the axis\n",
        "ax.set_ylabel(\"Ocorrências\",\n",
        "             fontsize = 20,\n",
        "             labelpad = 20)\n",
        "ax.set_xlabel(\"Variáveis categorias binárias\",\n",
        "             fontsize = 20,\n",
        "             labelpad =20)\n",
        "ax.set_title(\"Dados qualitativos por variáveis categoricas binárias\",\n",
        "            fontsize = 30,\n",
        "            pad = 20)\n",
        "#set the ticks\n",
        "ax.set_xticks(x)\n",
        "ax.set_xticklabels(label)\n",
        "#add the legend\n",
        "#using the labels of the bars\n",
        "ax.legend(title = \"Decisões\",\n",
        "         fontsize = 16,\n",
        "         title_fontsize = 20)\n",
        "#adjust the tick paramaters\n",
        "ax.tick_params(axis = \"x\",\n",
        "              which = \"both\",\n",
        "              labelrotation = 90)\n",
        "ax.tick_params(axis = \"y\",\n",
        "              which = \"both\",\n",
        "              labelsize = 15)"
      ]
    },
    {
      "cell_type": "code",
      "execution_count": null,
      "metadata": {
        "colab": {
          "base_uri": "https://localhost:8080/",
          "height": 840
        },
        "id": "WE6eWBqp-IsF",
        "outputId": "f24f42c0-5ac7-4925-b90b-81a85c049586"
      },
      "outputs": [
        {
          "data": {
            "image/png": "[encoded data removed]",
            "text/plain": [
              "<Figure size 1008x1008 with 1 Axes>"
            ]
          },
          "metadata": {},
          "output_type": "display_data"
        }
      ],
      "source": [
        "vara = df_categorico['vara'].value_counts()\n",
        "plt.style.use('bmh')\n",
        "plt.figure(figsize = (14, 14))\n",
        "vara.plot(kind='barh')\n",
        "plt.xlabel(\"Quantidade de ocorrências de processos jurídicos\")\n",
        "plt.ylabel(\"Varas\")\n",
        "plt.title(\"Distribuição das ocorrências de processos judiciais de acordo com cada vara\")\n",
        "plt.show()"
      ]
    },
    {
      "cell_type": "code",
      "execution_count": null,
      "metadata": {
        "id": "rLu9dZIhBZbN"
      },
      "outputs": [],
      "source": [
        "resultado_1_grau = df_categorico['resultado_1_grau'].value_counts()\n",
        "resultado_2_grau = df_categorico['resultado_2_grau'].value_counts()"
      ]
    },
    {
      "cell_type": "code",
      "execution_count": null,
      "metadata": {
        "colab": {
          "base_uri": "https://localhost:8080/",
          "height": 370
        },
        "id": "-fliVnG8FWyl",
        "outputId": "bd77714f-0355-4b9b-8bf3-bf4df0076ff9"
      },
      "outputs": [
        {
          "data": {
            "image/png": "[encoded data removed]",
            "text/plain": [
              "<Figure size 576x360 with 1 Axes>"
            ]
          },
          "metadata": {},
          "output_type": "display_data"
        }
      ],
      "source": [
        "plt.style.use('bmh')\n",
        "plt.figure(figsize = (8, 5))\n",
        "resultado_1_grau.plot(kind='barh')\n",
        "plt.xlabel(\"Quantidade de ocorrências de processos jurídicos\")\n",
        "plt.ylabel(\"Resultado 1 grau\")\n",
        "plt.title(\"Distribuição dos resultados de 1 grau \")\n",
        "plt.show()"
      ]
    },
    {
      "cell_type": "code",
      "execution_count": null,
      "metadata": {
        "colab": {
          "base_uri": "https://localhost:8080/",
          "height": 370
        },
        "id": "2-nTANqZEeoh",
        "outputId": "c6d835ad-e5ff-4c0d-9ecf-78bc7263262b"
      },
      "outputs": [
        {
          "data": {
            "image/png": "[encoded data removed]",
            "text/plain": [
              "<Figure size 576x360 with 1 Axes>"
            ]
          },
          "metadata": {},
          "output_type": "display_data"
        }
      ],
      "source": [
        "plt.style.use('ggplot')\n",
        "plt.figure(figsize = (8, 5))\n",
        "resultado_2_grau.plot(kind='barh')\n",
        "plt.xlabel(\"Quantidade de ocorrências de processos jurídicos\")\n",
        "plt.ylabel(\"Resultado 2 grau\")\n",
        "plt.title(\"Distribuição dos resultados de 2 grau \")\n",
        "plt.show()"
      ]
    },
    {
      "cell_type": "markdown",
      "metadata": {
        "id": "MVTQ_j6Kf1NW"
      },
      "source": [
        "## Correlacionando dados de texto relevantes para modelo ML\n",
        "\n",
        "\n",
        "> tratamento dos dados de texto\n",
        "\n"
      ]
    },
    {
      "cell_type": "code",
      "execution_count": null,
      "metadata": {
        "id": "JXSHOp3ctLIL"
      },
      "outputs": [],
      "source": [
        "df_assunto = dataset.loc[:,['assunto_cnj','complemento_assunto_cnj','detalhe_assunto_cnj']]"
      ]
    },
    {
      "cell_type": "code",
      "execution_count": null,
      "metadata": {
        "id": "MNLeDOPszruz"
      },
      "outputs": [],
      "source": [
        "df_assunto.head()"
      ]
    },
    {
      "cell_type": "code",
      "execution_count": null,
      "metadata": {
        "id": "FMhtv7h9tvYT"
      },
      "outputs": [],
      "source": [
        "df_sentenca = dataset.loc[:,['resultado_1_grau','conteudo_sentenca','resultado_2_grau','conteudo_acordao']]"
      ]
    },
    {
      "cell_type": "code",
      "execution_count": null,
      "metadata": {
        "colab": {
          "base_uri": "https://localhost:8080/",
          "height": 424
        },
        "id": "0yjJEccIzOP2",
        "outputId": "880dce9f-ff80-476b-a87e-9cf2e65ce1f0"
      },
      "outputs": [
        {
          "data": {
            "text/html": [
              "\n",
              "  <div id=\"df-9a1d6eeb-0c20-4876-8bec-c98772011b88\">\n",
              "    <div class=\"colab-df-container\">\n",
              "      <div>\n",
              "<style scoped>\n",
              "    .dataframe tbody tr th:only-of-type {\n",
              "        vertical-align: middle;\n",
              "    }\n",
              "\n",
              "    .dataframe tbody tr th {\n",
              "        vertical-align: top;\n",
              "    }\n",
              "\n",
              "    .dataframe thead th {\n",
              "        text-align: right;\n",
              "    }\n",
              "</style>\n",
              "<table border=\"1\" class=\"dataframe\">\n",
              "  <thead>\n",
              "    <tr style=\"text-align: right;\">\n",
              "      <th></th>\n",
              "      <th>resultado_1_grau</th>\n",
              "      <th>conteudo_sentenca</th>\n",
              "      <th>resultado_2_grau</th>\n",
              "      <th>conteudo_acordao</th>\n",
              "    </tr>\n",
              "  </thead>\n",
              "  <tbody>\n",
              "    <tr>\n",
              "      <th>0</th>\n",
              "      <td>PROCEDENTE</td>\n",
              "      <td>SENTENÇA 1. Relatório Cuida-se de ação proposta em face da FAZENDA NACIONAL e MUNICÍPIO DE LAGOA NOVA, na qual a parte autora objetiva a devolução de valores retidos na fonte a título de PSS incid...</td>\n",
              "      <td>NÃO PROVIMENTO</td>\n",
              "      <td>PROCESSO 0500454-62.2017.4.05.8402  EMENTA:DIREITO TRIBUTÁRIO. SERVIDOR PÚBLICO. RECURSO INOMINADO. CONTRIBUIÇÃOPREVIDENCIÁRIA. TERÇO DE FÉRIAS. REPETIÇÃO DE INDÉBITO. NÃO INCIDÊNCIA.PRECEDENTES D...</td>\n",
              "    </tr>\n",
              "    <tr>\n",
              "      <th>1</th>\n",
              "      <td>EXTINTO SEM MÉRITO</td>\n",
              "      <td>SENTENÇA Trata-se de ação especial cível, em cuja petição verifico, de plano, a existência de vício processual que impede o regular desenvolvimento do processo, nos seguintes termos: - No presente...</td>\n",
              "      <td>NaN</td>\n",
              "      <td>None</td>\n",
              "    </tr>\n",
              "    <tr>\n",
              "      <th>2</th>\n",
              "      <td>EXTINTO SEM MÉRITO</td>\n",
              "      <td>SENTENÇA Vistos etc. Trata-se de ação especial visando a cobrança de diferenças na concessão de salário-maternidade, contra o qual se insurge o INSS através de contestação. Fundamento e decido. A ...</td>\n",
              "      <td>NaN</td>\n",
              "      <td>None</td>\n",
              "    </tr>\n",
              "    <tr>\n",
              "      <th>3</th>\n",
              "      <td>PROCEDENTE</td>\n",
              "      <td>SENTENÇA I - RELATÓRIO Cuida-se de ação em que a parte autora, Emanuela Carneiro Tabosa postula o reconhecimento da inexistência de fato gerador da Contribuição Previdenciária e do Imposto de Rend...</td>\n",
              "      <td>NÃO PROVIMENTO</td>\n",
              "      <td>VOTO Relatório dispensado, nos termos do art. 38 da Lei n.o 9.099/95. Competência dos Juizados Especiais Federais. No caso em apreço, observa-se que o montante das parcelas vencidas até a data do ...</td>\n",
              "    </tr>\n",
              "    <tr>\n",
              "      <th>4</th>\n",
              "      <td>IMPROCEDENTE</td>\n",
              "      <td>SENTENÇA Tipo A I – RELATÓRIO Dispensado o relatório, na forma do artigo 38 da Lei 9.099/95, subsidiariamente aplicado, nos termos do artigo 1o da Lei 10.259/2001. II – FUNDAMENTAÇÃO Litisconsórci...</td>\n",
              "      <td>NÃO PROVIMENTO</td>\n",
              "      <td>EMENTA PREVIDENCIÁRIO. PENSÃO POR MORTE. PROVA EMPRESTADA. POSSIBILIDADE. REQUISITOS PARA A CONCESSÃO DO BENEFÍCIO NÃO PREENCHIDOS. UTILIZAÇÃO DA TÉCNICA PER RELATIONEM. RECURSO IMPROVIDO. Trata-s...</td>\n",
              "    </tr>\n",
              "  </tbody>\n",
              "</table>\n",
              "</div>\n",
              "      <button class=\"colab-df-convert\" onclick=\"convertToInteractive('df-9a1d6eeb-0c20-4876-8bec-c98772011b88')\"\n",
              "              title=\"Convert this dataframe to an interactive table.\"\n",
              "              style=\"display:none;\">\n",
              "        \n",
              "  <svg xmlns=\"http://www.w3.org/2000/svg\" height=\"24px\"viewBox=\"0 0 24 24\"\n",
              "       width=\"24px\">\n",
              "    <path d=\"M0 0h24v24H0V0z\" fill=\"none\"/>\n",
              "    <path d=\"M18.56 5.44l.94 2.06.94-2.06 2.06-.94-2.06-.94-.94-2.06-.94 2.06-2.06.94zm-11 1L8.5 8.5l.94-2.06 2.06-.94-2.06-.94L8.5 2.5l-.94 2.06-2.06.94zm10 10l.94 2.06.94-2.06 2.06-.94-2.06-.94-.94-2.06-.94 2.06-2.06.94z\"/><path d=\"M17.41 7.96l-1.37-1.37c-.4-.4-.92-.59-1.43-.59-.52 0-1.04.2-1.43.59L10.3 9.45l-7.72 7.72c-.78.78-.78 2.05 0 2.83L4 21.41c.39.39.9.59 1.41.59.51 0 1.02-.2 1.41-.59l7.78-7.78 2.81-2.81c.8-.78.8-2.07 0-2.86zM5.41 20L4 18.59l7.72-7.72 1.47 1.35L5.41 20z\"/>\n",
              "  </svg>\n",
              "      </button>\n",
              "      \n",
              "  <style>\n",
              "    .colab-df-container {\n",
              "      display:flex;\n",
              "      flex-wrap:wrap;\n",
              "      gap: 12px;\n",
              "    }\n",
              "\n",
              "    .colab-df-convert {\n",
              "      background-color: #E8F0FE;\n",
              "      border: none;\n",
              "      border-radius: 50%;\n",
              "      cursor: pointer;\n",
              "      display: none;\n",
              "      fill: #1967D2;\n",
              "      height: 32px;\n",
              "      padding: 0 0 0 0;\n",
              "      width: 32px;\n",
              "    }\n",
              "\n",
              "    .colab-df-convert:hover {\n",
              "      background-color: #E2EBFA;\n",
              "      box-shadow: 0px 1px 2px rgba(60, 64, 67, 0.3), 0px 1px 3px 1px rgba(60, 64, 67, 0.15);\n",
              "      fill: #174EA6;\n",
              "    }\n",
              "\n",
              "    [theme=dark] .colab-df-convert {\n",
              "      background-color: #3B4455;\n",
              "      fill: #D2E3FC;\n",
              "    }\n",
              "\n",
              "    [theme=dark] .colab-df-convert:hover {\n",
              "      background-color: #434B5C;\n",
              "      box-shadow: 0px 1px 3px 1px rgba(0, 0, 0, 0.15);\n",
              "      filter: drop-shadow(0px 1px 2px rgba(0, 0, 0, 0.3));\n",
              "      fill: #FFFFFF;\n",
              "    }\n",
              "  </style>\n",
              "\n",
              "      <script>\n",
              "        const buttonEl =\n",
              "          document.querySelector('#df-9a1d6eeb-0c20-4876-8bec-c98772011b88 button.colab-df-convert');\n",
              "        buttonEl.style.display =\n",
              "          google.colab.kernel.accessAllowed ? 'block' : 'none';\n",
              "\n",
              "        async function convertToInteractive(key) {\n",
              "          const element = document.querySelector('#df-9a1d6eeb-0c20-4876-8bec-c98772011b88');\n",
              "          const dataTable =\n",
              "            await google.colab.kernel.invokeFunction('convertToInteractive',\n",
              "                                                     [key], {});\n",
              "          if (!dataTable) return;\n",
              "\n",
              "          const docLinkHtml = 'Like what you see? Visit the ' +\n",
              "            '<a target=\"_blank\" href=https://colab.research.google.com/notebooks/data_table.ipynb>data table notebook</a>'\n",
              "            + ' to learn more about interactive tables.';\n",
              "          element.innerHTML = '';\n",
              "          dataTable['output_type'] = 'display_data';\n",
              "          await google.colab.output.renderOutput(dataTable, element);\n",
              "          const docLink = document.createElement('div');\n",
              "          docLink.innerHTML = docLinkHtml;\n",
              "          element.appendChild(docLink);\n",
              "        }\n",
              "      </script>\n",
              "    </div>\n",
              "  </div>\n",
              "  "
            ],
            "text/plain": [
              "     resultado_1_grau  \\\n",
              "0          PROCEDENTE   \n",
              "1  EXTINTO SEM MÉRITO   \n",
              "2  EXTINTO SEM MÉRITO   \n",
              "3          PROCEDENTE   \n",
              "4        IMPROCEDENTE   \n",
              "\n",
              "                                                                                                                                                                                         conteudo_sentenca  \\\n",
              "0  SENTENÇA 1. Relatório Cuida-se de ação proposta em face da FAZENDA NACIONAL e MUNICÍPIO DE LAGOA NOVA, na qual a parte autora objetiva a devolução de valores retidos na fonte a título de PSS incid...   \n",
              "1  SENTENÇA Trata-se de ação especial cível, em cuja petição verifico, de plano, a existência de vício processual que impede o regular desenvolvimento do processo, nos seguintes termos: - No presente...   \n",
              "2  SENTENÇA Vistos etc. Trata-se de ação especial visando a cobrança de diferenças na concessão de salário-maternidade, contra o qual se insurge o INSS através de contestação. Fundamento e decido. A ...   \n",
              "3  SENTENÇA I - RELATÓRIO Cuida-se de ação em que a parte autora, Emanuela Carneiro Tabosa postula o reconhecimento da inexistência de fato gerador da Contribuição Previdenciária e do Imposto de Rend...   \n",
              "4  SENTENÇA Tipo A I – RELATÓRIO Dispensado o relatório, na forma do artigo 38 da Lei 9.099/95, subsidiariamente aplicado, nos termos do artigo 1o da Lei 10.259/2001. II – FUNDAMENTAÇÃO Litisconsórci...   \n",
              "\n",
              "  resultado_2_grau  \\\n",
              "0   NÃO PROVIMENTO   \n",
              "1              NaN   \n",
              "2              NaN   \n",
              "3   NÃO PROVIMENTO   \n",
              "4   NÃO PROVIMENTO   \n",
              "\n",
              "                                                                                                                                                                                          conteudo_acordao  \n",
              "0  PROCESSO 0500454-62.2017.4.05.8402  EMENTA:DIREITO TRIBUTÁRIO. SERVIDOR PÚBLICO. RECURSO INOMINADO. CONTRIBUIÇÃOPREVIDENCIÁRIA. TERÇO DE FÉRIAS. REPETIÇÃO DE INDÉBITO. NÃO INCIDÊNCIA.PRECEDENTES D...  \n",
              "1                                                                                                                                                                                                     None  \n",
              "2                                                                                                                                                                                                     None  \n",
              "3  VOTO Relatório dispensado, nos termos do art. 38 da Lei n.o 9.099/95. Competência dos Juizados Especiais Federais. No caso em apreço, observa-se que o montante das parcelas vencidas até a data do ...  \n",
              "4  EMENTA PREVIDENCIÁRIO. PENSÃO POR MORTE. PROVA EMPRESTADA. POSSIBILIDADE. REQUISITOS PARA A CONCESSÃO DO BENEFÍCIO NÃO PREENCHIDOS. UTILIZAÇÃO DA TÉCNICA PER RELATIONEM. RECURSO IMPROVIDO. Trata-s...  "
            ]
          },
          "execution_count": 55,
          "metadata": {},
          "output_type": "execute_result"
        }
      ],
      "source": [
        "df_sentenca.head()"
      ]
    },
    {
      "cell_type": "markdown",
      "metadata": {
        "id": "RT8Vr6FZdRx2"
      },
      "source": [
        "## ML Model"
      ]
    },
    {
      "cell_type": "markdown",
      "metadata": {
        "id": "Qekztq71CixT"
      },
      "source": [
        "## Cleaning the texts"
      ]
    },
    {
      "cell_type": "markdown",
      "source": [
        "stopwords são palavras como geralmente irrelevantes para o resultado que buscamos."
      ],
      "metadata": {
        "id": "KLl6rc8k-9Em"
      }
    },
    {
      "cell_type": "code",
      "execution_count": 243,
      "metadata": {
        "id": "8u_yXh9dCmEE",
        "colab": {
          "base_uri": "https://localhost:8080/"
        },
        "outputId": "c7085e25-c445-4d28-f4cc-0377e2c0aecb"
      },
      "outputs": [
        {
          "output_type": "stream",
          "name": "stderr",
          "text": [
            "[nltk_data] Downloading package stopwords to /root/nltk_data...\n",
            "[nltk_data]   Package stopwords is already up-to-date!\n"
          ]
        }
      ],
      "source": [
        "import re\n",
        "import nltk\n",
        "nltk.download('stopwords')\n",
        "from nltk.corpus import stopwords\n",
        "from nltk.stem.porter import PorterStemmer\n",
        "corpus = []\n",
        "for i in range(0, 5000):\n",
        "  conteudo_sentenca = re.sub('[^a-zA-Z]', ' ', dataset['conteudo_sentenca'][i])\n",
        "  conteudo_sentenca = conteudo_sentenca.lower()\n",
        "  conteudo_sentenca = conteudo_sentenca.split()\n",
        "  ps = PorterStemmer()\n",
        "  all_stopwords = stopwords.words('portuguese')\n",
        "  conteudo_sentenca = [ps.stem(word) for word in conteudo_sentenca if not word in set(all_stopwords)]\n",
        "  conteudo_sentenca = ' '.join(conteudo_sentenca)\n",
        "  corpus.append(conteudo_sentenca)"
      ]
    },
    {
      "cell_type": "code",
      "execution_count": 254,
      "metadata": {
        "colab": {
          "base_uri": "https://localhost:8080/"
        },
        "id": "KpGWdrzGoAsL",
        "outputId": "e067f86d-1698-43d1-9b45-fcd0cdc41bd8"
      },
      "outputs": [
        {
          "output_type": "stream",
          "name": "stdout",
          "text": [
            "<class 'list'>\n",
            "5000\n"
          ]
        }
      ],
      "source": [
        "print(type(corpus))\n",
        "print(len(corpus))"
      ]
    },
    {
      "cell_type": "code",
      "source": [
        "print(corpus[0])"
      ],
      "metadata": {
        "colab": {
          "base_uri": "https://localhost:8080/"
        },
        "id": "CzohPc9NAgEh",
        "outputId": "87a20d33-04e6-4e22-fc82-13bebcb49418"
      },
      "execution_count": 255,
      "outputs": [
        {
          "output_type": "stream",
          "name": "stdout",
          "text": [
            "senten relat rio cuida proposta face fazenda nacion munic pio lagoa nova part autora objetiva devolu valor retido font t tulo pss incident sobr parcela ter constitucion f ria sucinto relat rio at dispensado termo par grafo nico art lei aplic vel subsidiariament juizado especiai federai conson ncia art lei fundamenta benef cio gratuidad judici ria tendo vista autora possui rendimento inferior teto rgp conform ficha financeira acostada auto crit rio reputo razo vel fin concess beness legal defiro pleito justi gratuita au ncia documento indispen vei propositura quanto alega au ncia documento indispen vei propositura consistent necessidad comprova valor tributo retido igualment n merec acolhida efeito rela demanda dessa natureza demai conhecida posi administra p blica contr ria tese sustentada apelada modo patent resist ncia preten deduzida ju zo portanto inequ voco interess agir raz julgado invocado r contesta n ajusta caso sub examin preliminar m rito prescri rela prescri direito pleitear restitui extingu decurso prazo cinco ano contado partir marco estipulado art c digo tribut rio nacion art direito pleitear restitui extingu decurso prazo cinco ano contado i hip tese inciso i ii artigo data extin cr dito tribut rio ii hip tese inciso iii artigo data tornar definitiva deci administrativa passar julgado deci judici reformado anulado revogado rescindido deci condenat ria ness p rtico deve analisar incid ncia prescri quinquen pode reconhecida of cio juiz conform art c digo processo civil reda dada lei tratando servidor p blico regido regim jur dico pr prio ond lan amento feito pr pria uni lan amento of cio n havendo falar prazo homologa torn definitivo desd momento desconto ocorreu extin cr dito tribut rio nascendo direito contribuint pleitear restitui dessa forma est prescrito eventuai cr dito recolhido h cinco ano propositura present corroborando tai assertiva seguint ac rd processu civil tribut rio agravo regiment embargo declara recurso especi repeti ind bito contribui servidor inativo embargo acolhido integra limit impugna tributo sujeito lan amento of cio prescri prazo quinquen art i ctn precedent primeira turma dest tribun objetivando afastar desconto incident sobr contribui previd ria destinada instituto previd ncia estado s paulo ipesp recolhida sobr provento servidor aposentado embargo declarat rio oposto autor fl complementaram deci analis recurso especi n apreci quest limit apelo nobr poi limit integra exam prazo prescricion observado restitui contribui debat tema solucionado tribun justi estado s paulo julgamento agrg resp sp relatoria eminent ministro francisco falc dj primeira turma stj decidiu s ntese hip tese desconto contribui seguridad incident sobr remunera servidor configura lan amento of cio n homologa b ness panorama prazo prescricion observado caso quinquen conform disciplina art i ctn igual modo resp sc relat ministro franciso falc dj agravo regiment n provido stj adresp relat ministro benedito gon alv primeira turma dju grifo origin m rito propriament dito controv rsia caso est saber devida incid ncia contribui previd ria sobr adicion f ria constitucion part autora faz ju devolu valor pago t tulo sabe modelo constitucion previd rio servidor p blico federai est delineado base contributiva atuariai conformidad ec considerando valor pago t tulo adicion ter f ria n recebido servidor aposentadoria n podem integrar base c lculo contribui previd ria assim reconh n incid ncia contribui previd ria sobr adicion f ria adoto integralment raz es decidir contido excerto stj est alinhado jurisprud ncia stf abaixo transcrito processu civil tribut rio agravo interno recurso especi c digodeprocessocivild aplicabilidad argumento insuficientesparadesconstituiradeci atacada contribui previd riaa cargo empresa discuss sobr incid ncia n osobreasseguintesverba ter oconstitucion f ria sal riomaternidad sal rio paternidad aviso pr vio indenizado import nciapaga nosquinz dia antecedem aux lio doen f riasgozada d cimo terceiros rio adicionaisnoturno periculosidad insalubridad transfer ncia hora extra mat ria decidida recurso especi submetido sistem tica art c cpc recurso especi parcialment provido i consoanteodecididopeloplen riodestacort sess realizadaem oregim recurs determinado datadapublica odoprovimentojurisdicion impugnado assim sendo in casu aplica c digo processo civil ii estacort julgar recurso especiai n rs spe sp submetidosaoritodo art c firmouentendimentosegundooqu i n incid contribui previd riasobr ter constitucion f ria gozada indenizada avisopr vio indenizado bem sobr valor pago peloempregador quinz primeiro dia afastamento empregado pordoen aouacident incidindo outro lado rela oaosal riomaternidad sal rio paternidad ii edi odalein atributa oemseparadoda gratifica onatalinapassouat determina legal expressa partirdacompet nciad sendocalculada separado valoresda remunera m s dezembro iii verba relativa aadicionaisnoturno depericulosidad deinsalubridad transfer ncia bemcomoosvaloresrecebidosa t tulo hora extra possuemnaturezaremunerat ria sendopass veisd contribui oprevid riaiii pac fica orienta odosuperiortribunaldejusti asegundoaqualincid contribui previd ria patron pagamento f ria gozada iii aagravanten oapresenta noregiment argumento suficient desconstituir deci agravada iv agravo interno improvido agint resp sc rel ministra regina helena costa primeira turma julgado dje tribut rio previd rio embargo diverg ncia contribui previd ria ter constitucion f ria natureza jur dica n incid ncia contribui adequa jurisprud ncia stj entendimento firmado pret rio excelso primeira stj considera leg tima incid ncia contribui previd ria sobr ter constitucion f ria precedent entendimento diverso firmado stf partir compreen natureza jur dica ter constitucion f ria considerado verba compensat ria n incorpor vel remunera servidor fin aposentadoria realinhamento jurisprud ncia stj adequando posi sedimentada pret rio excelso embargo diverg ncia provido stj eresp relatora ministra eliana calmon primeira dj grifo origin dessa forma vislumbra preten autor mostra digna acolhimento dispositivo diant exposto julgo procedent pedido declarar n incid ncia contribui previd ria sobr adicion f ria constitucion condenar r restitui valor pago t tulo acrescido corr monet riae juro morat rio base ndice caderneta poupan conform estabelec art f lei reda conferida lei devendo ainda observar lei conform entendimento turma recurs respeitada prescri quinquen outrossim determino munic pio lagoa nova abstenha descontar contribui previd ria sobr f ria constitucion part autora defiro benef cio justi gratuita dispensado pagamento custa honor rio advocat cio art lei intima es forma lei caic rn maio arnaldo pereira andrad segundo juiz feder substitui vara sjrn\n"
          ]
        }
      ]
    },
    {
      "cell_type": "markdown",
      "metadata": {
        "id": "CLqmAkANCp1-"
      },
      "source": [
        "## Creating the Bag of Words model"
      ]
    },
    {
      "cell_type": "code",
      "execution_count": 260,
      "metadata": {
        "id": "qroF7XcSCvY3",
        "colab": {
          "base_uri": "https://localhost:8080/"
        },
        "outputId": "46755284-6d7b-4c4b-fddf-a6e366a394b9"
      },
      "outputs": [
        {
          "output_type": "stream",
          "name": "stdout",
          "text": [
            "5000\n"
          ]
        }
      ],
      "source": [
        "from sklearn.feature_extraction.text import CountVectorizer\n",
        "cv = CountVectorizer()\n",
        "x = cv.fit_transform(corpus).toarray()\n",
        "y = dataset.loc[:, 'resultado_1_grau'].values\n",
        "print(len(x))"
      ]
    },
    {
      "cell_type": "markdown",
      "metadata": {
        "id": "DH_VjgPzC2cd"
      },
      "source": [
        "## Splitting the dataset into the Training set and Test set"
      ]
    },
    {
      "cell_type": "code",
      "execution_count": 263,
      "metadata": {
        "id": "qQXYM5VzDDDI"
      },
      "outputs": [],
      "source": [
        "from sklearn.model_selection import train_test_split\n",
        "x_train, x_test, y_train, y_test = train_test_split(x, y, test_size = 0.20, random_state = 0)"
      ]
    },
    {
      "cell_type": "markdown",
      "metadata": {
        "id": "VkIq23vEDIPt"
      },
      "source": [
        "## Training the Naive Bayes model on the Training set"
      ]
    },
    {
      "cell_type": "code",
      "execution_count": 265,
      "metadata": {
        "colab": {
          "base_uri": "https://localhost:8080/"
        },
        "id": "DS9oiDXXDRdI",
        "outputId": "7e9fcee7-c54e-4fd5-94b4-6a7989391260"
      },
      "outputs": [
        {
          "output_type": "execute_result",
          "data": {
            "text/plain": [
              "GaussianNB()"
            ]
          },
          "metadata": {},
          "execution_count": 265
        }
      ],
      "source": [
        "from sklearn.naive_bayes import GaussianNB\n",
        "classifier = GaussianNB()\n",
        "classifier.fit(x_train, y_train)"
      ]
    },
    {
      "cell_type": "markdown",
      "metadata": {
        "id": "1JaRM7zXDWUy"
      },
      "source": [
        "## Predicting the Test set results"
      ]
    },
    {
      "cell_type": "code",
      "execution_count": null,
      "metadata": {
        "id": "Iif0CVhFDaMp"
      },
      "outputs": [],
      "source": [
        "y_pred = classifier.predict(x_test)\n",
        "#print(np.concatenate((y_pred.reshape(len(y_pred),1), y_test.reshape(len(y_test),1)),1))\n",
        "print(y_pred)"
      ]
    },
    {
      "cell_type": "markdown",
      "metadata": {
        "id": "xoMltea5Dir1"
      },
      "source": [
        "## Making the Confusion Matrix"
      ]
    },
    {
      "cell_type": "code",
      "execution_count": 271,
      "metadata": {
        "colab": {
          "base_uri": "https://localhost:8080/"
        },
        "id": "Xj9IU6MxDnvo",
        "outputId": "f1811620-85e1-43f2-bbf4-5b5dd26f78d4"
      },
      "outputs": [
        {
          "output_type": "stream",
          "name": "stdout",
          "text": [
            "[[227   2  26  11  24]\n",
            " [  1  52   8   1   3]\n",
            " [  0   0 238  39  88]\n",
            " [  0   0  20  31  44]\n",
            " [  0   0  37  32 116]]\n"
          ]
        },
        {
          "output_type": "execute_result",
          "data": {
            "text/plain": [
              "0.664"
            ]
          },
          "metadata": {},
          "execution_count": 271
        }
      ],
      "source": [
        "from sklearn.metrics import confusion_matrix, accuracy_score\n",
        "cm = confusion_matrix(y_test, y_pred)\n",
        "print(cm)\n",
        "accuracy_score(y_test, y_pred)"
      ]
    },
    {
      "cell_type": "markdown",
      "source": [
        "## Predicting"
      ],
      "metadata": {
        "id": "RhHk12r2Fy3h"
      }
    },
    {
      "cell_type": "code",
      "source": [
        "print(dataset['conteudo_sentenca'][0])"
      ],
      "metadata": {
        "colab": {
          "base_uri": "https://localhost:8080/"
        },
        "id": "Cu5kNcjMEjp0",
        "outputId": "34ec9794-f87b-47ac-b85e-c20894dba31a"
      },
      "execution_count": 273,
      "outputs": [
        {
          "output_type": "stream",
          "name": "stdout",
          "text": [
            "SENTENÇA 1. Relatório Cuida-se de ação proposta em face da FAZENDA NACIONAL e MUNICÍPIO DE LAGOA NOVA, na qual a parte autora objetiva a devolução de valores retidos na fonte a título de PSS incidente sobre parcelas de terço constitucional de férias. É o sucinto relatório, que seria até dispensado, nos termos do parágrafo único do art. 38 da Lei no 9.099/1995, aplicável subsidiariamente aos Juizados Especiais Federais, em consonância com o art. 1o da Lei no 10.259/2001. 2. Fundamentação Do benefício da gratuidade judiciária Tendo em vista que a autora possui rendimento inferior ao teto do RGPS, conforme fichas financeiras acostadas aos autos, critério este que se reputo razoável para fins de concessão da benesse legal, defiro o pleito de justiça gratuita. Da ausência de documentos indispensáveis à propositura da ação Quanto à alegação de ausência de documentos indispensáveis à propositura da ação, consistente na necessidade de comprovação dos valores de tributos retidos, igualmente não merece acolhida. Com efeito, em relação a demandas dessa natureza, é por demais conhecida a posição do administração pública, contrária à tese sustentada pela apelada, de modo que é patente a resistência à pretensão deduzida em Juízo e, portanto, inequívoco o interesse de agir, razão pela qual o julgado invocado pela réna contestação não se ajusta ao caso sub examine. Da preliminar de mérito - prescrição Com relação à prescrição, o direito de pleitear a restituição extingue-se com o decurso do prazo de 5 (cinco) anos contados a partir dos marcos estipulados no art. 168 do Código Tributário Nacional: “Art. 168 - O direito de pleitear a restituição extingue-se com o decurso do prazo de 5 (cinco) anos, contados: I - nas hipóteses dos incisos I e II do artigo 165, da data da extinção do crédito tributário; II - na hipótese do inciso III do artigo 165, da data em que se tornar definitiva a decisão administrativa ou passar em julgado a decisão judicial que tenha reformado, anulado, revogado ou rescindido a decisão condenatória.” Nesse pórtico, deve-se analisar a incidência da prescrição quinquenal, que pode ser reconhecida de ofício pelo juiz, conforme o art. 219, §5o do Código de Processo Civil, com redação dada pela lei 11.280/2006. Tratando-se de servidor público regido por regime jurídico próprio, onde o lançamento é feito pela própria União, tem-se um lançamento de ofício, não havendo o que falar em prazo de homologação para que se torne definitivo. Desde o momento em que houve o desconto, ocorreu a extinção do crédito tributário, nascendo o direito do contribuinte de pleitear a restituição. Dessa forma, estão prescritos eventuais créditos recolhidos há mais de cinco anos da propositura da presente ação. Corroborando tais assertivas, tem-se o seguinte acórdão: PROCESSUAL CIVIL. TRIBUTÁRIO. AGRAVO REGIMENTAL. EMBARGOS DE DECLARAÇÃO. RECURSO ESPECIAL. REPETIÇÃO DE INDÉBITO. CONTRIBUIÇÃO DE SERVIDOR INATIVO. EMBARGOS ACOLHIDOS. INTEGRAÇÃO NOS LIMITES DA IMPUGNAÇÃO. TRIBUTO SUJEITO A LANÇAMENTO DE OFÍCIO. PRESCRIÇÃO. PRAZO QUINQUENAL. ART. 168, I, DO CTN. PRECEDENTES DA PRIMEIRA TURMA DESTE TRIBUNAL. 1. Ação objetivando afastar desconto incidente sobre contribuição previdenciária destinada ao Instituto de Previdência do Estado de São Paulo - Ipesp recolhida sobre os proventos de servidores aposentados. 2. Nos embargos declaratórios opostos pelos autores (fls. 409/412), que complementaram a decisão que analisou o recurso especial, não se apreciou questão fora dos limites do apelo nobre, pois se limitou a integração ao exame do prazo prescricional a ser observado na restituição da contribuição em debate, tema este solucionado pelo Tribunal de Justiça do Estado de São Paulo. 3. Quando do julgamento do AgRg no REsp 1.096.074/SP, da relatoria do eminente Ministro Francisco Falcão, DJ de 26/2/2009, a Primeira Turma do STJ decidiu, em síntese, que: a) a hipótese de descontos de contribuição de seguridade incidente sobre a remuneração de servidor configura-se lançamento de ofício e não por homologação; b) nesse panorama, o prazo prescricional a ser observado, no caso, é o quinquenal, conforme disciplina o art. 168, I, do CTN. 4. De igual modo: REsp 949.788/SC, Relator Ministro Franciso Falcão, DJ de 20.10.2008. 5. Agravo regimental não provido. (STJ. ADRESP 200702231531. Relator Ministro Benedito Gonçalves. Primeira Turma. DJU em 18/02/2010). (sem grifos no original). Do mérito propriamente dito A controvérsia do caso está em saber se é devida a incidência de contribuição previdenciária sobre o adicional de 1/3 de férias constitucional e se a parte autora faz jus à devolução do valor pago a esse título. Como se sabe, o modelo constitucional previdenciário dos servidores públicos federais está delineado em bases contributivas e atuariais, na conformidade da EC 20/98. Considerando que os valores pagos a título de adicional de um terço de férias não serão recebidos pelo servidor quando de sua aposentadoria, não podem integrar a base de cálculo da contribuição previdenciária. Assim, reconheço a não-incidência da contribuição previdenciária sobre o adicional de 1/3 de férias e adoto, integralmente, como razões de decidir, o contido no excerto do STJ, que está alinhado à jurisprudência do STF, abaixo transcrito: PROCESSUAL CIVIL. TRIBUTÁRIO. AGRAVO INTERNO NO RECURSO ESPECIAL. CÓDIGODEPROCESSOCIVILDE2015.APLICABILIDADE.ARGUMENTOS INSUFICIENTESPARADESCONSTITUIRADECISÃO ATACADA. CONTRIBUIÇÃO PREVIDENCIÁRIAA CARGO DA EMPRESA. DISCUSSÃO SOBRE A INCIDÊNCIAS OU NÃOSOBREASSEGUINTESVERBAS:TERÇOCONSTITUCIONAL DE FÉRIAS, SALÁRIOMATERNIDADE,SALÁRIO PATERNIDADE, AVISO PRÉVIO INDENIZADO; IMPORTÂNCIAPAGA,NOSQUINZE DIAS QUE ANTECEDEM O AUXÍLIO-DOENÇA, FÉRIASGOZADAS,DÉCIMO-TERCEIROSALÁRIO,ADICIONAISNOTURNO, DE PERICULOSIDADE, DE INSALUBRIDADE E DE TRANSFERÊNCIA, HORAS EXTRAS. MATÉRIA DECIDIDA EM RECURSO ESPECIAL SUBMETIDO À SISTEMÁTICA DO ART. 543-C DO CPC. RECURSO ESPECIAL PARCIALMENTE PROVIDO. I-ConsoanteodecididopeloPlenáriodestaCorte na sessão realizadaem09.03.2016,oregime recursal será determinado pela datadapublicaçãodoprovimentojurisdicional impugnado. Assim sendo, in casu, aplica-se o Código de Processo Civil de 2015. II-EstaCorte, ao julgar os Recursos Especiais n. 1.230.957/RS, 1.066.682/SPe1.358.281/SP,submetidosaoritodo art. 543-C, firmouentendimentosegundooqual:i)não incide contribuição previdenciáriasobre o terço constitucional de férias (gozadas e/ou indenizadas),avisoprévio indenizado, bem como sobre o valor pago peloempregador,nos15 (quinze) primeiros dias de afastamento do empregado,pordoençaouacidente, incidindo, por outro lado, em relaçãoaosaláriomaternidade e salário paternidade; ; ii) com a ediçãodaLein.8.620/1993,atributaçãoemseparadoda gratificaçãonatalinapassouater determinação legal expressa a partirdacompetênciade1993,sendocalculada em separado dos valoresda remuneração do mês de dezembro; iii) as verbas relativas aadicionaisnoturno,depericulosidade,deinsalubridade e de transferência,bemcomoosvaloresrecebidosa título de horas extras,possuemnaturezaremuneratória,sendopassíveisde contribuiçãoprevidenciáriaIII-Épacífica a orientação da 1a SeçãodoSuperiorTribunaldeJustiçasegundoaqualincide contribuição previdenciária patronal no pagamento de férias gozadas. III-AAgravantenãoapresenta,noregimental,argumentos suficientes para desconstituir a decisão agravada. IV - Agravo Interno improvido. (AgInt no REsp 1524039/SC, Rel. Ministra REGINA HELENA COSTA, PRIMEIRA TURMA, julgado em 17/05/2016, DJe 27/05/2016) TRIBUTÁRIO E PREVIDENCIÁRIO - EMBARGOS DE DIVERGÊNCIA - CONTRIBUIÇÃO PREVIDENCIÁRIA - TERÇO CONSTITUCIONAL DE FÉRIAS - NATUREZA JURÍDICA - NÃO-INCIDÊNCIA DA CONTRIBUIÇÃO - ADEQUAÇÃO DA JURISPRUDÊNCIA DO STJ AO ENTENDIMENTO FIRMADO NO PRETÓRIO EXCELSO. 1. A Primeira Seção do STJ considera legítima a incidência da contribuição previdenciária sobre o terço constitucional de férias. Precedentes. 2. Entendimento diverso foi firmado pelo STF, a partir da compreensão da natureza jurídica do terço constitucional de férias, considerado como verba compensatória e não incorporável à remuneração do servidor para fins de aposentadoria. 3. Realinhamento da jurisprudência do STJ, adequando-se à posição sedimentada no Pretório Excelso. 4. Embargos de divergência providos. (STJ. ERESP 956289. Relatora Ministra Eliana Calmon. Primeira Seção. DJ 10/11/2009) (sem grifos no original) Dessa forma, vislumbra-se que a pretensão autoral se mostra digna de acolhimento. 3. Dispositivo Diante do exposto, JULGO PROCEDENTE O PEDIDO para declarar a não incidência de contribuição previdenciária sobre o adicional de 1/3 de férias constitucional e condenar a ré à restituição dos valores pagos a esse título, acrescidos de correção monetáriae os juros moratórios com base nos índices da caderneta de poupança, conforme estabelece o art. 1-f da Lei 9.494/97, com a redação conferida pela Lei no 11.960/09, devendo-se, ainda, observar a Lei no 12.703/12, conforme entendimento da Turma Recursal, respeitada a prescrição quinquenal. Outrossim,determino ao MUNICÍPIO DE LAGOA NOVA que se abstenha de descontar a contribuição previdenciária sobre 1/3 de férias constitucional da parte autora. Defiro o benefício da justiça gratuita. Dispensado o pagamento de custas e honorários advocatícios (art. 55, Lei 9.099/95). Intimações na forma da Lei no 10.259/01. Caicó/RN, 21 de maio de 2017.  ARNALDO PEREIRA DE ANDRADE SEGUNDO Juiz Federal em substituição na 9a Vara/SJRN  \n"
          ]
        }
      ]
    },
    {
      "cell_type": "code",
      "source": [
        "print(dataset['resultado_1_grau'][0])"
      ],
      "metadata": {
        "colab": {
          "base_uri": "https://localhost:8080/"
        },
        "id": "2IZPWbCsF36q",
        "outputId": "15fccefc-6c57-4da5-9595-4fbf92968e05"
      },
      "execution_count": 276,
      "outputs": [
        {
          "output_type": "stream",
          "name": "stdout",
          "text": [
            "PROCEDENTE\n"
          ]
        }
      ]
    },
    {
      "cell_type": "code",
      "source": [
        "new_review = 'SENTENÇA 1. Relatório Cuida-se de ação proposta em face da FAZENDA NACIONAL e MUNICÍPIO DE LAGOA NOVA, na qual a parte autora objetiva a devolução de valores retidos na fonte a título de PSS incidente sobre parcelas de terço constitucional de férias. É o sucinto relatório, que seria até dispensado, nos termos do parágrafo único do art. 38 da Lei no 9.099/1995, aplicável subsidiariamente aos Juizados Especiais Federais, em consonância com o art. 1o da Lei no 10.259/2001. 2. Fundamentação Do benefício da gratuidade judiciária Tendo em vista que a autora possui rendimento inferior ao teto do RGPS, conforme fichas financeiras acostadas aos autos, critério este que se reputo razoável para fins de concessão da benesse legal, defiro o pleito de justiça gratuita. Da ausência de documentos indispensáveis à propositura da ação Quanto à alegação de ausência de documentos indispensáveis à propositura da ação, consistente na necessidade de comprovação dos valores de tributos retidos, igualmente não merece acolhida. Com efeito, em relação a demandas dessa natureza, é por demais conhecida a posição do administração pública, contrária à tese sustentada pela apelada, de modo que é patente a resistência à pretensão deduzida em Juízo e, portanto, inequívoco o interesse de agir, razão pela qual o julgado invocado pela réna contestação não se ajusta ao caso sub examine. Da preliminar de mérito - prescrição Com relação à prescrição, o direito de pleitear a restituição extingue-se com o decurso do prazo de 5 (cinco) anos contados a partir dos marcos estipulados no art. 168 do Código Tributário Nacional: “Art. 168 - O direito de pleitear a restituição extingue-se com o decurso do prazo de 5 (cinco) anos, contados: I - nas hipóteses dos incisos I e II do artigo 165, da data da extinção do crédito tributário; II - na hipótese do inciso III do artigo 165, da data em que se tornar definitiva a decisão administrativa ou passar em julgado a decisão judicial que tenha reformado, anulado, revogado ou rescindido a decisão condenatória.” Nesse pórtico, deve-se analisar a incidência da prescrição quinquenal, que pode ser reconhecida de ofício pelo juiz, conforme o art. 219, §5o do Código de Processo Civil, com redação dada pela lei 11.280/2006. Tratando-se de servidor público regido por regime jurídico próprio, onde o lançamento é feito pela própria União, tem-se um lançamento de ofício, não havendo o que falar em prazo de homologação para que se torne definitivo. Desde o momento em que houve o desconto, ocorreu a extinção do crédito tributário, nascendo o direito do contribuinte de pleitear a restituição. Dessa forma, estão prescritos eventuais créditos recolhidos há mais de cinco anos da propositura da presente ação. Corroborando tais assertivas, tem-se o seguinte acórdão: PROCESSUAL CIVIL. TRIBUTÁRIO. AGRAVO REGIMENTAL. EMBARGOS DE DECLARAÇÃO. RECURSO ESPECIAL. REPETIÇÃO DE INDÉBITO. CONTRIBUIÇÃO DE SERVIDOR INATIVO. EMBARGOS ACOLHIDOS. INTEGRAÇÃO NOS LIMITES DA IMPUGNAÇÃO. TRIBUTO SUJEITO A LANÇAMENTO DE OFÍCIO. PRESCRIÇÃO. PRAZO QUINQUENAL. ART. 168, I, DO CTN. PRECEDENTES DA PRIMEIRA TURMA DESTE TRIBUNAL. 1. Ação objetivando afastar desconto incidente sobre contribuição previdenciária destinada ao Instituto de Previdência do Estado de São Paulo - Ipesp recolhida sobre os proventos de servidores aposentados. 2. Nos embargos declaratórios opostos pelos autores (fls. 409/412), que complementaram a decisão que analisou o recurso especial, não se apreciou questão fora dos limites do apelo nobre, pois se limitou a integração ao exame do prazo prescricional a ser observado na restituição da contribuição em debate, tema este solucionado pelo Tribunal de Justiça do Estado de São Paulo. 3. Quando do julgamento do AgRg no REsp 1.096.074/SP, da relatoria do eminente Ministro Francisco Falcão, DJ de 26/2/2009, a Primeira Turma do STJ decidiu, em síntese, que: a) a hipótese de descontos de contribuição de seguridade incidente sobre a remuneração de servidor configura-se lançamento de ofício e não por homologação; b) nesse panorama, o prazo prescricional a ser observado, no caso, é o quinquenal, conforme disciplina o art. 168, I, do CTN. 4. De igual modo: REsp 949.788/SC, Relator Ministro Franciso Falcão, DJ de 20.10.2008. 5. Agravo regimental não provido. (STJ. ADRESP 200702231531. Relator Ministro Benedito Gonçalves. Primeira Turma. DJU em 18/02/2010). (sem grifos no original). Do mérito propriamente dito A controvérsia do caso está em saber se é devida a incidência de contribuição previdenciária sobre o adicional de 1/3 de férias constitucional e se a parte autora faz jus à devolução do valor pago a esse título. Como se sabe, o modelo constitucional previdenciário dos servidores públicos federais está delineado em bases contributivas e atuariais, na conformidade da EC 20/98. Considerando que os valores pagos a título de adicional de um terço de férias não serão recebidos pelo servidor quando de sua aposentadoria, não podem integrar a base de cálculo da contribuição previdenciária. Assim, reconheço a não-incidência da contribuição previdenciária sobre o adicional de 1/3 de férias e adoto, integralmente, como razões de decidir, o contido no excerto do STJ, que está alinhado à jurisprudência do STF, abaixo transcrito: PROCESSUAL CIVIL. TRIBUTÁRIO. AGRAVO INTERNO NO RECURSO ESPECIAL. CÓDIGODEPROCESSOCIVILDE2015.APLICABILIDADE.ARGUMENTOS INSUFICIENTESPARADESCONSTITUIRADECISÃO ATACADA. CONTRIBUIÇÃO PREVIDENCIÁRIAA CARGO DA EMPRESA. DISCUSSÃO SOBRE A INCIDÊNCIAS OU NÃOSOBREASSEGUINTESVERBAS:TERÇOCONSTITUCIONAL DE FÉRIAS, SALÁRIOMATERNIDADE,SALÁRIO PATERNIDADE, AVISO PRÉVIO INDENIZADO; IMPORTÂNCIAPAGA,NOSQUINZE DIAS QUE ANTECEDEM O AUXÍLIO-DOENÇA, FÉRIASGOZADAS,DÉCIMO-TERCEIROSALÁRIO,ADICIONAISNOTURNO, DE PERICULOSIDADE, DE INSALUBRIDADE E DE TRANSFERÊNCIA, HORAS EXTRAS. MATÉRIA DECIDIDA EM RECURSO ESPECIAL SUBMETIDO À SISTEMÁTICA DO ART. 543-C DO CPC. RECURSO ESPECIAL PARCIALMENTE PROVIDO. I-ConsoanteodecididopeloPlenáriodestaCorte na sessão realizadaem09.03.2016,oregime recursal será determinado pela datadapublicaçãodoprovimentojurisdicional impugnado. Assim sendo, in casu, aplica-se o Código de Processo Civil de 2015. II-EstaCorte, ao julgar os Recursos Especiais n. 1.230.957/RS, 1.066.682/SPe1.358.281/SP,submetidosaoritodo art. 543-C, firmouentendimentosegundooqual:i)não incide contribuição previdenciáriasobre o terço constitucional de férias (gozadas e/ou indenizadas),avisoprévio indenizado, bem como sobre o valor pago peloempregador,nos15 (quinze) primeiros dias de afastamento do empregado,pordoençaouacidente, incidindo, por outro lado, em relaçãoaosaláriomaternidade e salário paternidade; ; ii) com a ediçãodaLein.8.620/1993,atributaçãoemseparadoda gratificaçãonatalinapassouater determinação legal expressa a partirdacompetênciade1993,sendocalculada em separado dos valoresda remuneração do mês de dezembro; iii) as verbas relativas aadicionaisnoturno,depericulosidade,deinsalubridade e de transferência,bemcomoosvaloresrecebidosa título de horas extras,possuemnaturezaremuneratória,sendopassíveisde contribuiçãoprevidenciáriaIII-Épacífica a orientação da 1a SeçãodoSuperiorTribunaldeJustiçasegundoaqualincide contribuição previdenciária patronal no pagamento de férias gozadas. III-AAgravantenãoapresenta,noregimental,argumentos suficientes para desconstituir a decisão agravada. IV - Agravo Interno improvido. (AgInt no REsp 1524039/SC, Rel. Ministra REGINA HELENA COSTA, PRIMEIRA TURMA, julgado em 17/05/2016, DJe 27/05/2016) TRIBUTÁRIO E PREVIDENCIÁRIO - EMBARGOS DE DIVERGÊNCIA - CONTRIBUIÇÃO PREVIDENCIÁRIA - TERÇO CONSTITUCIONAL DE FÉRIAS - NATUREZA JURÍDICA - NÃO-INCIDÊNCIA DA CONTRIBUIÇÃO - ADEQUAÇÃO DA JURISPRUDÊNCIA DO STJ AO ENTENDIMENTO FIRMADO NO PRETÓRIO EXCELSO. 1. A Primeira Seção do STJ considera legítima a incidência da contribuição previdenciária sobre o terço constitucional de férias. Precedentes. 2. Entendimento diverso foi firmado pelo STF, a partir da compreensão da natureza jurídica do terço constitucional de férias, considerado como verba compensatória e não incorporável à remuneração do servidor para fins de aposentadoria. 3. Realinhamento da jurisprudência do STJ, adequando-se à posição sedimentada no Pretório Excelso. 4. Embargos de divergência providos. (STJ. ERESP 956289. Relatora Ministra Eliana Calmon. Primeira Seção. DJ 10/11/2009) (sem grifos no original) Dessa forma, vislumbra-se que a pretensão autoral se mostra digna de acolhimento. 3. Dispositivo Diante do exposto, JULGO PROCEDENTE O PEDIDO para declarar a não incidência de contribuição previdenciária sobre o adicional de 1/3 de férias constitucional e condenar a ré à restituição dos valores pagos a esse título, acrescidos de correção monetáriae os juros moratórios com base nos índices da caderneta de poupança, conforme estabelece o art. 1-f da Lei 9.494/97, com a redação conferida pela Lei no 11.960/09, devendo-se, ainda, observar a Lei no 12.703/12, conforme entendimento da Turma Recursal, respeitada a prescrição quinquenal. Outrossim,determino ao MUNICÍPIO DE LAGOA NOVA que se abstenha de descontar a contribuição previdenciária sobre 1/3 de férias constitucional da parte autora. Defiro o benefício da justiça gratuita. Dispensado o pagamento de custas e honorários advocatícios (art. 55, Lei 9.099/95). Intimações na forma da Lei no 10.259/01. Caicó/RN, 21 de maio de 2017.  ARNALDO PEREIRA DE ANDRADE SEGUNDO Juiz Federal em substituição na 9a Vara/SJRN  '\n",
        "new_review = re.sub('[^a-zA-Z]', ' ', new_review)\n",
        "new_review = new_review.lower()\n",
        "new_review = new_review.split()\n",
        "ps = PorterStemmer()\n",
        "all_stopwords = stopwords.words('portuguese')\n",
        "new_review = [ps.stem(word) for word in new_review if not word in set(all_stopwords)]\n",
        "new_review = ' '.join(new_review)\n",
        "new_corpus = [new_review]\n",
        "new_x_test = cv.transform(new_corpus).toarray()\n",
        "new_y_pred = classifier.predict(new_x_test)\n",
        "print(new_y_pred)"
      ],
      "metadata": {
        "colab": {
          "base_uri": "https://localhost:8080/"
        },
        "id": "96A8hopKETFX",
        "outputId": "ba72f528-e080-48ea-a7be-ef9afa04d3b0"
      },
      "execution_count": 275,
      "outputs": [
        {
          "output_type": "stream",
          "name": "stdout",
          "text": [
            "['PROCEDENTE']\n"
          ]
        }
      ]
    }
  ],
  "metadata": {
    "colab": {
      "collapsed_sections": [
        "71fQ_g9uSVWU",
        "JkpSC1J879jy",
        "29loIznKNofM"
      ],
      "name": "natural_language_processing_etapa2.ipynb",
      "provenance": [],
      "include_colab_link": true
    },
    "kernelspec": {
      "display_name": "Python 3",
      "name": "python3"
    }
  },
  "nbformat": 4,
  "nbformat_minor": 0
}